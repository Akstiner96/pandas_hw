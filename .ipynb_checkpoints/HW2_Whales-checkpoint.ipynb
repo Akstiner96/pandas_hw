{
 "cells": [
  {
   "cell_type": "markdown",
   "metadata": {},
   "source": [
    "## A Whale off the Port(folio)\n",
    "\n",
    "In this assignment, you'll get to use what you've learned this week to evaluate the performance among various algorithmic hedge, and mutual fund portfolios and compare them against the S&P 500"
   ]
  },
  {
   "cell_type": "code",
   "execution_count": 1,
   "metadata": {},
   "outputs": [],
   "source": [
    "import pandas as pd\n",
    "import numpy as np\n",
    "import datetime as dt\n",
    "from pathlib import Path\n",
    "%matplotlib inline"
   ]
  },
  {
   "cell_type": "markdown",
   "metadata": {},
   "source": [
    "## Data Cleaning\n",
    "\n",
    "In this section, you will need to read the CSV filed into DataFrames and perform any necessary data cleaning steps. After cleaning, combine all DataFrames into a single DataFrame\n",
    "\n",
    "Files:\n",
    "\n",
    "    1. whale_returns.csv\n",
    "    2. algo_returns.csv\n",
    "    3. sp500_history.csv"
   ]
  },
  {
   "cell_type": "markdown",
   "metadata": {},
   "source": [
    "## Whale Returns\n",
    "\n",
    "Read the Whale Portfolio daily returns and clean the data"
   ]
  },
  {
   "cell_type": "code",
   "execution_count": 2,
   "metadata": {},
   "outputs": [
    {
     "data": {
      "text/html": [
       "<div>\n",
       "<style scoped>\n",
       "    .dataframe tbody tr th:only-of-type {\n",
       "        vertical-align: middle;\n",
       "    }\n",
       "\n",
       "    .dataframe tbody tr th {\n",
       "        vertical-align: top;\n",
       "    }\n",
       "\n",
       "    .dataframe thead th {\n",
       "        text-align: right;\n",
       "    }\n",
       "</style>\n",
       "<table border=\"1\" class=\"dataframe\">\n",
       "  <thead>\n",
       "    <tr style=\"text-align: right;\">\n",
       "      <th></th>\n",
       "      <th>SOROS FUND MANAGEMENT LLC</th>\n",
       "      <th>PAULSON &amp; CO.INC.</th>\n",
       "      <th>TIGER GLOBAL MANAGEMENT LLC</th>\n",
       "      <th>BERKSHIRE HATHAWAY INC</th>\n",
       "    </tr>\n",
       "    <tr>\n",
       "      <th>Date</th>\n",
       "      <th></th>\n",
       "      <th></th>\n",
       "      <th></th>\n",
       "      <th></th>\n",
       "    </tr>\n",
       "  </thead>\n",
       "  <tbody>\n",
       "    <tr>\n",
       "      <th>2015-03-02</th>\n",
       "      <td>NaN</td>\n",
       "      <td>NaN</td>\n",
       "      <td>NaN</td>\n",
       "      <td>NaN</td>\n",
       "    </tr>\n",
       "    <tr>\n",
       "      <th>2015-03-03</th>\n",
       "      <td>-0.001266</td>\n",
       "      <td>-0.004981</td>\n",
       "      <td>-0.000496</td>\n",
       "      <td>-0.006569</td>\n",
       "    </tr>\n",
       "    <tr>\n",
       "      <th>2015-03-04</th>\n",
       "      <td>0.002230</td>\n",
       "      <td>0.003241</td>\n",
       "      <td>-0.002534</td>\n",
       "      <td>0.004213</td>\n",
       "    </tr>\n",
       "    <tr>\n",
       "      <th>2015-03-05</th>\n",
       "      <td>0.004016</td>\n",
       "      <td>0.004076</td>\n",
       "      <td>0.002355</td>\n",
       "      <td>0.006726</td>\n",
       "    </tr>\n",
       "    <tr>\n",
       "      <th>2015-03-06</th>\n",
       "      <td>-0.007905</td>\n",
       "      <td>-0.003574</td>\n",
       "      <td>-0.008481</td>\n",
       "      <td>-0.013098</td>\n",
       "    </tr>\n",
       "  </tbody>\n",
       "</table>\n",
       "</div>"
      ],
      "text/plain": [
       "            SOROS FUND MANAGEMENT LLC  PAULSON & CO.INC.   \\\n",
       "Date                                                        \n",
       "2015-03-02                        NaN                 NaN   \n",
       "2015-03-03                  -0.001266           -0.004981   \n",
       "2015-03-04                   0.002230            0.003241   \n",
       "2015-03-05                   0.004016            0.004076   \n",
       "2015-03-06                  -0.007905           -0.003574   \n",
       "\n",
       "            TIGER GLOBAL MANAGEMENT LLC  BERKSHIRE HATHAWAY INC  \n",
       "Date                                                             \n",
       "2015-03-02                          NaN                     NaN  \n",
       "2015-03-03                    -0.000496               -0.006569  \n",
       "2015-03-04                    -0.002534                0.004213  \n",
       "2015-03-05                     0.002355                0.006726  \n",
       "2015-03-06                    -0.008481               -0.013098  "
      ]
     },
     "execution_count": 2,
     "metadata": {},
     "output_type": "execute_result"
    }
   ],
   "source": [
    "# Reading whale returns\n",
    "whale_returns_csv = Path(\"./Resources/whale_returns.csv\")\n",
    "whale_returns = pd.read_csv(whale_returns_csv, index_col=\"Date\", infer_datetime_format=True, parse_dates=True)\n",
    "whale_returns.head()"
   ]
  },
  {
   "cell_type": "code",
   "execution_count": 3,
   "metadata": {},
   "outputs": [
    {
     "data": {
      "text/plain": [
       "SOROS FUND MANAGEMENT LLC      1\n",
       "PAULSON & CO.INC.              1\n",
       "TIGER GLOBAL MANAGEMENT LLC    1\n",
       "BERKSHIRE HATHAWAY INC         1\n",
       "dtype: int64"
      ]
     },
     "execution_count": 3,
     "metadata": {},
     "output_type": "execute_result"
    }
   ],
   "source": [
    "# Count nulls\n",
    "whale_returns.isnull().sum()"
   ]
  },
  {
   "cell_type": "code",
   "execution_count": 4,
   "metadata": {},
   "outputs": [],
   "source": [
    "#Drop nulls\n",
    "whale_cleaned = whale_returns.dropna()"
   ]
  },
  {
   "cell_type": "code",
   "execution_count": 5,
   "metadata": {},
   "outputs": [
    {
     "data": {
      "text/plain": [
       "SOROS FUND MANAGEMENT LLC      0\n",
       "PAULSON & CO.INC.              0\n",
       "TIGER GLOBAL MANAGEMENT LLC    0\n",
       "BERKSHIRE HATHAWAY INC         0\n",
       "dtype: int64"
      ]
     },
     "execution_count": 5,
     "metadata": {},
     "output_type": "execute_result"
    }
   ],
   "source": [
    "whale_cleaned.isnull().sum()"
   ]
  },
  {
   "cell_type": "markdown",
   "metadata": {},
   "source": [
    "## Algorithmic Daily Returns\n",
    "\n",
    "Read the algorithmic daily returns and clean the data"
   ]
  },
  {
   "cell_type": "code",
   "execution_count": 6,
   "metadata": {},
   "outputs": [
    {
     "data": {
      "text/html": [
       "<div>\n",
       "<style scoped>\n",
       "    .dataframe tbody tr th:only-of-type {\n",
       "        vertical-align: middle;\n",
       "    }\n",
       "\n",
       "    .dataframe tbody tr th {\n",
       "        vertical-align: top;\n",
       "    }\n",
       "\n",
       "    .dataframe thead th {\n",
       "        text-align: right;\n",
       "    }\n",
       "</style>\n",
       "<table border=\"1\" class=\"dataframe\">\n",
       "  <thead>\n",
       "    <tr style=\"text-align: right;\">\n",
       "      <th></th>\n",
       "      <th>Algo 1</th>\n",
       "      <th>Algo 2</th>\n",
       "    </tr>\n",
       "    <tr>\n",
       "      <th>Date</th>\n",
       "      <th></th>\n",
       "      <th></th>\n",
       "    </tr>\n",
       "  </thead>\n",
       "  <tbody>\n",
       "    <tr>\n",
       "      <th>2014-05-28</th>\n",
       "      <td>0.001745</td>\n",
       "      <td>NaN</td>\n",
       "    </tr>\n",
       "    <tr>\n",
       "      <th>2014-05-29</th>\n",
       "      <td>0.003978</td>\n",
       "      <td>NaN</td>\n",
       "    </tr>\n",
       "    <tr>\n",
       "      <th>2014-05-30</th>\n",
       "      <td>0.004464</td>\n",
       "      <td>NaN</td>\n",
       "    </tr>\n",
       "    <tr>\n",
       "      <th>2014-06-02</th>\n",
       "      <td>0.005692</td>\n",
       "      <td>NaN</td>\n",
       "    </tr>\n",
       "    <tr>\n",
       "      <th>2014-06-03</th>\n",
       "      <td>0.005292</td>\n",
       "      <td>NaN</td>\n",
       "    </tr>\n",
       "  </tbody>\n",
       "</table>\n",
       "</div>"
      ],
      "text/plain": [
       "              Algo 1  Algo 2\n",
       "Date                        \n",
       "2014-05-28  0.001745     NaN\n",
       "2014-05-29  0.003978     NaN\n",
       "2014-05-30  0.004464     NaN\n",
       "2014-06-02  0.005692     NaN\n",
       "2014-06-03  0.005292     NaN"
      ]
     },
     "execution_count": 6,
     "metadata": {},
     "output_type": "execute_result"
    }
   ],
   "source": [
    "algo_returns_csv = Path(\"Resources/algo_returns.csv\")\n",
    "algo_returns = pd.read_csv(algo_returns_csv, index_col=\"Date\", infer_datetime_format=True, parse_dates=True)\n",
    "algo_returns.head()"
   ]
  },
  {
   "cell_type": "code",
   "execution_count": 7,
   "metadata": {},
   "outputs": [
    {
     "data": {
      "text/plain": [
       "Algo 1    0\n",
       "Algo 2    6\n",
       "dtype: int64"
      ]
     },
     "execution_count": 7,
     "metadata": {},
     "output_type": "execute_result"
    }
   ],
   "source": [
    "#Count Nulls\n",
    "algo_returns.isnull().sum()"
   ]
  },
  {
   "cell_type": "code",
   "execution_count": 8,
   "metadata": {},
   "outputs": [
    {
     "data": {
      "text/html": [
       "<div>\n",
       "<style scoped>\n",
       "    .dataframe tbody tr th:only-of-type {\n",
       "        vertical-align: middle;\n",
       "    }\n",
       "\n",
       "    .dataframe tbody tr th {\n",
       "        vertical-align: top;\n",
       "    }\n",
       "\n",
       "    .dataframe thead th {\n",
       "        text-align: right;\n",
       "    }\n",
       "</style>\n",
       "<table border=\"1\" class=\"dataframe\">\n",
       "  <thead>\n",
       "    <tr style=\"text-align: right;\">\n",
       "      <th></th>\n",
       "      <th>Algo 1</th>\n",
       "      <th>Algo 2</th>\n",
       "    </tr>\n",
       "    <tr>\n",
       "      <th>Date</th>\n",
       "      <th></th>\n",
       "      <th></th>\n",
       "    </tr>\n",
       "  </thead>\n",
       "  <tbody>\n",
       "    <tr>\n",
       "      <th>2014-06-05</th>\n",
       "      <td>0.004062</td>\n",
       "      <td>0.013285</td>\n",
       "    </tr>\n",
       "    <tr>\n",
       "      <th>2014-06-06</th>\n",
       "      <td>0.001857</td>\n",
       "      <td>0.008284</td>\n",
       "    </tr>\n",
       "    <tr>\n",
       "      <th>2014-06-09</th>\n",
       "      <td>-0.005012</td>\n",
       "      <td>0.005668</td>\n",
       "    </tr>\n",
       "    <tr>\n",
       "      <th>2014-06-10</th>\n",
       "      <td>0.004406</td>\n",
       "      <td>-0.000735</td>\n",
       "    </tr>\n",
       "    <tr>\n",
       "      <th>2014-06-11</th>\n",
       "      <td>0.004760</td>\n",
       "      <td>-0.003761</td>\n",
       "    </tr>\n",
       "  </tbody>\n",
       "</table>\n",
       "</div>"
      ],
      "text/plain": [
       "              Algo 1    Algo 2\n",
       "Date                          \n",
       "2014-06-05  0.004062  0.013285\n",
       "2014-06-06  0.001857  0.008284\n",
       "2014-06-09 -0.005012  0.005668\n",
       "2014-06-10  0.004406 -0.000735\n",
       "2014-06-11  0.004760 -0.003761"
      ]
     },
     "execution_count": 8,
     "metadata": {},
     "output_type": "execute_result"
    }
   ],
   "source": [
    "#Drop Nulls\n",
    "algo_cleaned = algo_returns.dropna()\n",
    "algo_cleaned.head()"
   ]
  },
  {
   "cell_type": "code",
   "execution_count": 9,
   "metadata": {},
   "outputs": [
    {
     "data": {
      "text/plain": [
       "Algo 1    0\n",
       "Algo 2    0\n",
       "dtype: int64"
      ]
     },
     "execution_count": 9,
     "metadata": {},
     "output_type": "execute_result"
    }
   ],
   "source": [
    "algo_cleaned.isnull().sum()"
   ]
  },
  {
   "cell_type": "markdown",
   "metadata": {},
   "source": [
    "## S&P 500 Returns\n",
    "\n",
    "Read the S&P 500 Historic Closing Prices and create a new daily returns DataFrame from the data"
   ]
  },
  {
   "cell_type": "code",
   "execution_count": 10,
   "metadata": {},
   "outputs": [
    {
     "data": {
      "text/html": [
       "<div>\n",
       "<style scoped>\n",
       "    .dataframe tbody tr th:only-of-type {\n",
       "        vertical-align: middle;\n",
       "    }\n",
       "\n",
       "    .dataframe tbody tr th {\n",
       "        vertical-align: top;\n",
       "    }\n",
       "\n",
       "    .dataframe thead th {\n",
       "        text-align: right;\n",
       "    }\n",
       "</style>\n",
       "<table border=\"1\" class=\"dataframe\">\n",
       "  <thead>\n",
       "    <tr style=\"text-align: right;\">\n",
       "      <th></th>\n",
       "      <th>Close</th>\n",
       "    </tr>\n",
       "    <tr>\n",
       "      <th>Date</th>\n",
       "      <th></th>\n",
       "    </tr>\n",
       "  </thead>\n",
       "  <tbody>\n",
       "    <tr>\n",
       "      <th>2012-10-01</th>\n",
       "      <td>$1444.49</td>\n",
       "    </tr>\n",
       "    <tr>\n",
       "      <th>2012-10-02</th>\n",
       "      <td>$1445.75</td>\n",
       "    </tr>\n",
       "    <tr>\n",
       "      <th>2012-10-03</th>\n",
       "      <td>$1450.99</td>\n",
       "    </tr>\n",
       "    <tr>\n",
       "      <th>2012-10-04</th>\n",
       "      <td>$1461.40</td>\n",
       "    </tr>\n",
       "    <tr>\n",
       "      <th>2012-10-05</th>\n",
       "      <td>$1460.93</td>\n",
       "    </tr>\n",
       "  </tbody>\n",
       "</table>\n",
       "</div>"
      ],
      "text/plain": [
       "               Close\n",
       "Date                \n",
       "2012-10-01  $1444.49\n",
       "2012-10-02  $1445.75\n",
       "2012-10-03  $1450.99\n",
       "2012-10-04  $1461.40\n",
       "2012-10-05  $1460.93"
      ]
     },
     "execution_count": 10,
     "metadata": {},
     "output_type": "execute_result"
    }
   ],
   "source": [
    "sp500_history_csv = Path(\"Resources/sp500_history.csv\")\n",
    "sp500_history = pd.read_csv(sp500_history_csv, index_col=\"Date\", infer_datetime_format=True, parse_dates=True)\n",
    "sp500_history.sort_index(inplace=True)\n",
    "sp500_history.head()"
   ]
  },
  {
   "cell_type": "code",
   "execution_count": 11,
   "metadata": {},
   "outputs": [
    {
     "data": {
      "text/plain": [
       "Index(['Close'], dtype='object')"
      ]
     },
     "execution_count": 11,
     "metadata": {},
     "output_type": "execute_result"
    }
   ],
   "source": [
    "# Check data type\n",
    "sp500_history.dtypes\n",
    "sp500_history.columns"
   ]
  },
  {
   "cell_type": "code",
   "execution_count": 12,
   "metadata": {},
   "outputs": [
    {
     "data": {
      "text/plain": [
       "Close    0\n",
       "dtype: int64"
      ]
     },
     "execution_count": 12,
     "metadata": {},
     "output_type": "execute_result"
    }
   ],
   "source": [
    "sp500_history.isnull().sum()"
   ]
  },
  {
   "cell_type": "code",
   "execution_count": 13,
   "metadata": {},
   "outputs": [
    {
     "data": {
      "text/html": [
       "<div>\n",
       "<style scoped>\n",
       "    .dataframe tbody tr th:only-of-type {\n",
       "        vertical-align: middle;\n",
       "    }\n",
       "\n",
       "    .dataframe tbody tr th {\n",
       "        vertical-align: top;\n",
       "    }\n",
       "\n",
       "    .dataframe thead th {\n",
       "        text-align: right;\n",
       "    }\n",
       "</style>\n",
       "<table border=\"1\" class=\"dataframe\">\n",
       "  <thead>\n",
       "    <tr style=\"text-align: right;\">\n",
       "      <th></th>\n",
       "      <th>Close</th>\n",
       "    </tr>\n",
       "    <tr>\n",
       "      <th>Date</th>\n",
       "      <th></th>\n",
       "    </tr>\n",
       "  </thead>\n",
       "  <tbody>\n",
       "    <tr>\n",
       "      <th>2012-10-01</th>\n",
       "      <td>1444.49</td>\n",
       "    </tr>\n",
       "    <tr>\n",
       "      <th>2012-10-02</th>\n",
       "      <td>1445.75</td>\n",
       "    </tr>\n",
       "    <tr>\n",
       "      <th>2012-10-03</th>\n",
       "      <td>1450.99</td>\n",
       "    </tr>\n",
       "    <tr>\n",
       "      <th>2012-10-04</th>\n",
       "      <td>1461.40</td>\n",
       "    </tr>\n",
       "    <tr>\n",
       "      <th>2012-10-05</th>\n",
       "      <td>1460.93</td>\n",
       "    </tr>\n",
       "  </tbody>\n",
       "</table>\n",
       "</div>"
      ],
      "text/plain": [
       "              Close\n",
       "Date               \n",
       "2012-10-01  1444.49\n",
       "2012-10-02  1445.75\n",
       "2012-10-03  1450.99\n",
       "2012-10-04  1461.40\n",
       "2012-10-05  1460.93"
      ]
     },
     "execution_count": 13,
     "metadata": {},
     "output_type": "execute_result"
    }
   ],
   "source": [
    "# Fix Data types\n",
    "sp500_history[\"Close\"] = sp500_history[\"Close\"].str.replace(\"$\",\"\").astype(\"float\")\n",
    "sp500_history.head()"
   ]
  },
  {
   "cell_type": "code",
   "execution_count": 14,
   "metadata": {},
   "outputs": [
    {
     "data": {
      "text/html": [
       "<div>\n",
       "<style scoped>\n",
       "    .dataframe tbody tr th:only-of-type {\n",
       "        vertical-align: middle;\n",
       "    }\n",
       "\n",
       "    .dataframe tbody tr th {\n",
       "        vertical-align: top;\n",
       "    }\n",
       "\n",
       "    .dataframe thead th {\n",
       "        text-align: right;\n",
       "    }\n",
       "</style>\n",
       "<table border=\"1\" class=\"dataframe\">\n",
       "  <thead>\n",
       "    <tr style=\"text-align: right;\">\n",
       "      <th></th>\n",
       "      <th>Close</th>\n",
       "    </tr>\n",
       "    <tr>\n",
       "      <th>Date</th>\n",
       "      <th></th>\n",
       "    </tr>\n",
       "  </thead>\n",
       "  <tbody>\n",
       "    <tr>\n",
       "      <th>2012-10-01</th>\n",
       "      <td>NaN</td>\n",
       "    </tr>\n",
       "    <tr>\n",
       "      <th>2012-10-02</th>\n",
       "      <td>0.000872</td>\n",
       "    </tr>\n",
       "    <tr>\n",
       "      <th>2012-10-03</th>\n",
       "      <td>0.003624</td>\n",
       "    </tr>\n",
       "    <tr>\n",
       "      <th>2012-10-04</th>\n",
       "      <td>0.007174</td>\n",
       "    </tr>\n",
       "    <tr>\n",
       "      <th>2012-10-05</th>\n",
       "      <td>-0.000322</td>\n",
       "    </tr>\n",
       "  </tbody>\n",
       "</table>\n",
       "</div>"
      ],
      "text/plain": [
       "               Close\n",
       "Date                \n",
       "2012-10-01       NaN\n",
       "2012-10-02  0.000872\n",
       "2012-10-03  0.003624\n",
       "2012-10-04  0.007174\n",
       "2012-10-05 -0.000322"
      ]
     },
     "execution_count": 14,
     "metadata": {},
     "output_type": "execute_result"
    }
   ],
   "source": [
    "# Calculate Daily Returns\n",
    "sp_returns = sp500_history.pct_change()\n",
    "sp_returns.head()"
   ]
  },
  {
   "cell_type": "code",
   "execution_count": 15,
   "metadata": {},
   "outputs": [],
   "source": [
    "# Drop nulls\n",
    "sp_dropped = sp_returns.dropna()"
   ]
  },
  {
   "cell_type": "code",
   "execution_count": 114,
   "metadata": {},
   "outputs": [],
   "source": [
    "# Rename Columns\n",
    "sp_dropped = sp_dropped.rename(columns={\"Close\": \"S&P 500 Daily Returns\"})"
   ]
  },
  {
   "cell_type": "code",
   "execution_count": 115,
   "metadata": {},
   "outputs": [
    {
     "data": {
      "text/html": [
       "<div>\n",
       "<style scoped>\n",
       "    .dataframe tbody tr th:only-of-type {\n",
       "        vertical-align: middle;\n",
       "    }\n",
       "\n",
       "    .dataframe tbody tr th {\n",
       "        vertical-align: top;\n",
       "    }\n",
       "\n",
       "    .dataframe thead th {\n",
       "        text-align: right;\n",
       "    }\n",
       "</style>\n",
       "<table border=\"1\" class=\"dataframe\">\n",
       "  <thead>\n",
       "    <tr style=\"text-align: right;\">\n",
       "      <th></th>\n",
       "      <th>S&amp;P 500 Daily Returns</th>\n",
       "    </tr>\n",
       "    <tr>\n",
       "      <th>Date</th>\n",
       "      <th></th>\n",
       "    </tr>\n",
       "  </thead>\n",
       "  <tbody>\n",
       "    <tr>\n",
       "      <th>2012-10-02</th>\n",
       "      <td>0.000872</td>\n",
       "    </tr>\n",
       "    <tr>\n",
       "      <th>2012-10-03</th>\n",
       "      <td>0.003624</td>\n",
       "    </tr>\n",
       "    <tr>\n",
       "      <th>2012-10-04</th>\n",
       "      <td>0.007174</td>\n",
       "    </tr>\n",
       "    <tr>\n",
       "      <th>2012-10-05</th>\n",
       "      <td>-0.000322</td>\n",
       "    </tr>\n",
       "    <tr>\n",
       "      <th>2012-10-08</th>\n",
       "      <td>-0.003457</td>\n",
       "    </tr>\n",
       "  </tbody>\n",
       "</table>\n",
       "</div>"
      ],
      "text/plain": [
       "            S&P 500 Daily Returns\n",
       "Date                             \n",
       "2012-10-02               0.000872\n",
       "2012-10-03               0.003624\n",
       "2012-10-04               0.007174\n",
       "2012-10-05              -0.000322\n",
       "2012-10-08              -0.003457"
      ]
     },
     "execution_count": 115,
     "metadata": {},
     "output_type": "execute_result"
    }
   ],
   "source": [
    "sp_dropped.head()"
   ]
  },
  {
   "cell_type": "markdown",
   "metadata": {},
   "source": [
    "## Combine Whale, Algorithmic, and S&P 500 Returns"
   ]
  },
  {
   "cell_type": "code",
   "execution_count": 18,
   "metadata": {},
   "outputs": [
    {
     "data": {
      "text/html": [
       "<div>\n",
       "<style scoped>\n",
       "    .dataframe tbody tr th:only-of-type {\n",
       "        vertical-align: middle;\n",
       "    }\n",
       "\n",
       "    .dataframe tbody tr th {\n",
       "        vertical-align: top;\n",
       "    }\n",
       "\n",
       "    .dataframe thead th {\n",
       "        text-align: right;\n",
       "    }\n",
       "</style>\n",
       "<table border=\"1\" class=\"dataframe\">\n",
       "  <thead>\n",
       "    <tr style=\"text-align: right;\">\n",
       "      <th></th>\n",
       "      <th>Soros</th>\n",
       "      <th>Paulson</th>\n",
       "      <th>Tiger</th>\n",
       "      <th>Bershire</th>\n",
       "      <th>Algo1</th>\n",
       "      <th>Algo 2</th>\n",
       "      <th>S&amp;P 500</th>\n",
       "    </tr>\n",
       "    <tr>\n",
       "      <th>Date</th>\n",
       "      <th></th>\n",
       "      <th></th>\n",
       "      <th></th>\n",
       "      <th></th>\n",
       "      <th></th>\n",
       "      <th></th>\n",
       "      <th></th>\n",
       "    </tr>\n",
       "  </thead>\n",
       "  <tbody>\n",
       "    <tr>\n",
       "      <th>2015-03-03</th>\n",
       "      <td>-0.001266</td>\n",
       "      <td>-0.004981</td>\n",
       "      <td>-0.000496</td>\n",
       "      <td>-0.006569</td>\n",
       "      <td>-0.001942</td>\n",
       "      <td>-0.000949</td>\n",
       "      <td>-0.004539</td>\n",
       "    </tr>\n",
       "    <tr>\n",
       "      <th>2015-03-04</th>\n",
       "      <td>0.002230</td>\n",
       "      <td>0.003241</td>\n",
       "      <td>-0.002534</td>\n",
       "      <td>0.004213</td>\n",
       "      <td>-0.008589</td>\n",
       "      <td>0.002416</td>\n",
       "      <td>-0.004389</td>\n",
       "    </tr>\n",
       "    <tr>\n",
       "      <th>2015-03-05</th>\n",
       "      <td>0.004016</td>\n",
       "      <td>0.004076</td>\n",
       "      <td>0.002355</td>\n",
       "      <td>0.006726</td>\n",
       "      <td>-0.000955</td>\n",
       "      <td>0.004323</td>\n",
       "      <td>0.001196</td>\n",
       "    </tr>\n",
       "    <tr>\n",
       "      <th>2015-03-06</th>\n",
       "      <td>-0.007905</td>\n",
       "      <td>-0.003574</td>\n",
       "      <td>-0.008481</td>\n",
       "      <td>-0.013098</td>\n",
       "      <td>-0.004957</td>\n",
       "      <td>-0.011460</td>\n",
       "      <td>-0.014174</td>\n",
       "    </tr>\n",
       "    <tr>\n",
       "      <th>2015-03-09</th>\n",
       "      <td>0.000582</td>\n",
       "      <td>0.004225</td>\n",
       "      <td>0.005843</td>\n",
       "      <td>-0.001652</td>\n",
       "      <td>-0.005447</td>\n",
       "      <td>0.001303</td>\n",
       "      <td>0.003944</td>\n",
       "    </tr>\n",
       "  </tbody>\n",
       "</table>\n",
       "</div>"
      ],
      "text/plain": [
       "               Soros   Paulson     Tiger  Bershire     Algo1    Algo 2  \\\n",
       "Date                                                                     \n",
       "2015-03-03 -0.001266 -0.004981 -0.000496 -0.006569 -0.001942 -0.000949   \n",
       "2015-03-04  0.002230  0.003241 -0.002534  0.004213 -0.008589  0.002416   \n",
       "2015-03-05  0.004016  0.004076  0.002355  0.006726 -0.000955  0.004323   \n",
       "2015-03-06 -0.007905 -0.003574 -0.008481 -0.013098 -0.004957 -0.011460   \n",
       "2015-03-09  0.000582  0.004225  0.005843 -0.001652 -0.005447  0.001303   \n",
       "\n",
       "             S&P 500  \n",
       "Date                  \n",
       "2015-03-03 -0.004539  \n",
       "2015-03-04 -0.004389  \n",
       "2015-03-05  0.001196  \n",
       "2015-03-06 -0.014174  \n",
       "2015-03-09  0.003944  "
      ]
     },
     "execution_count": 18,
     "metadata": {},
     "output_type": "execute_result"
    }
   ],
   "source": [
    "# Concatenate all DataFrames into a single DataFrame\n",
    "# Renamed columns to fix issue with 'S&P 500' showing up as \"Close\"\n",
    "combined_df = pd.concat([whale_cleaned, algo_cleaned, sp_dropped], axis='columns', join='inner')\n",
    "combined_df.sort_index(inplace=True)\n",
    "combined_df.columns = ['Soros', 'Paulson', 'Tiger', 'Bershire', 'Algo1', 'Algo 2', 'S&P 500']\n",
    "combined_df.head()"
   ]
  },
  {
   "cell_type": "markdown",
   "metadata": {},
   "source": [
    "## Portfolio Analysis\n",
    "\n",
    "In this section, you will calculate and visualize performance and risk metrics for the portfolios"
   ]
  },
  {
   "cell_type": "markdown",
   "metadata": {},
   "source": [
    "### Performance\n",
    "\n",
    "Calculate and Plot the daily returns and cumulative returns"
   ]
  },
  {
   "cell_type": "code",
   "execution_count": 19,
   "metadata": {},
   "outputs": [
    {
     "data": {
      "text/plain": [
       "<matplotlib.axes._subplots.AxesSubplot at 0x28bae639b08>"
      ]
     },
     "execution_count": 19,
     "metadata": {},
     "output_type": "execute_result"
    },
    {
     "data": {
      "image/png": "[encoded data removed]",
      "text/plain": [
       "<Figure size 432x288 with 1 Axes>"
      ]
     },
     "metadata": {
      "needs_background": "light"
     },
     "output_type": "display_data"
    }
   ],
   "source": [
    "# Plot daily returns\n",
    "\n",
    "combined_df.plot(kind='line')"
   ]
  },
  {
   "cell_type": "code",
   "execution_count": 20,
   "metadata": {},
   "outputs": [
    {
     "data": {
      "text/html": [
       "<div>\n",
       "<style scoped>\n",
       "    .dataframe tbody tr th:only-of-type {\n",
       "        vertical-align: middle;\n",
       "    }\n",
       "\n",
       "    .dataframe tbody tr th {\n",
       "        vertical-align: top;\n",
       "    }\n",
       "\n",
       "    .dataframe thead th {\n",
       "        text-align: right;\n",
       "    }\n",
       "</style>\n",
       "<table border=\"1\" class=\"dataframe\">\n",
       "  <thead>\n",
       "    <tr style=\"text-align: right;\">\n",
       "      <th></th>\n",
       "      <th>Soros</th>\n",
       "      <th>Paulson</th>\n",
       "      <th>Tiger</th>\n",
       "      <th>Bershire</th>\n",
       "      <th>Algo1</th>\n",
       "      <th>Algo 2</th>\n",
       "      <th>S&amp;P 500</th>\n",
       "    </tr>\n",
       "    <tr>\n",
       "      <th>Date</th>\n",
       "      <th></th>\n",
       "      <th></th>\n",
       "      <th></th>\n",
       "      <th></th>\n",
       "      <th></th>\n",
       "      <th></th>\n",
       "      <th></th>\n",
       "    </tr>\n",
       "  </thead>\n",
       "  <tbody>\n",
       "    <tr>\n",
       "      <th>2015-03-03</th>\n",
       "      <td>0.998734</td>\n",
       "      <td>0.995019</td>\n",
       "      <td>0.999504</td>\n",
       "      <td>0.993431</td>\n",
       "      <td>0.998058</td>\n",
       "      <td>0.999051</td>\n",
       "      <td>0.995461</td>\n",
       "    </tr>\n",
       "    <tr>\n",
       "      <th>2015-03-04</th>\n",
       "      <td>1.000962</td>\n",
       "      <td>0.998245</td>\n",
       "      <td>0.996972</td>\n",
       "      <td>0.997617</td>\n",
       "      <td>0.989486</td>\n",
       "      <td>1.001464</td>\n",
       "      <td>0.991093</td>\n",
       "    </tr>\n",
       "    <tr>\n",
       "      <th>2015-03-05</th>\n",
       "      <td>1.004981</td>\n",
       "      <td>1.002314</td>\n",
       "      <td>0.999319</td>\n",
       "      <td>1.004327</td>\n",
       "      <td>0.988541</td>\n",
       "      <td>1.005794</td>\n",
       "      <td>0.992278</td>\n",
       "    </tr>\n",
       "    <tr>\n",
       "      <th>2015-03-06</th>\n",
       "      <td>0.997037</td>\n",
       "      <td>0.998731</td>\n",
       "      <td>0.990844</td>\n",
       "      <td>0.991172</td>\n",
       "      <td>0.983641</td>\n",
       "      <td>0.994267</td>\n",
       "      <td>0.978214</td>\n",
       "    </tr>\n",
       "    <tr>\n",
       "      <th>2015-03-09</th>\n",
       "      <td>0.997617</td>\n",
       "      <td>1.002951</td>\n",
       "      <td>0.996633</td>\n",
       "      <td>0.989534</td>\n",
       "      <td>0.978283</td>\n",
       "      <td>0.995563</td>\n",
       "      <td>0.982072</td>\n",
       "    </tr>\n",
       "  </tbody>\n",
       "</table>\n",
       "</div>"
      ],
      "text/plain": [
       "               Soros   Paulson     Tiger  Bershire     Algo1    Algo 2  \\\n",
       "Date                                                                     \n",
       "2015-03-03  0.998734  0.995019  0.999504  0.993431  0.998058  0.999051   \n",
       "2015-03-04  1.000962  0.998245  0.996972  0.997617  0.989486  1.001464   \n",
       "2015-03-05  1.004981  1.002314  0.999319  1.004327  0.988541  1.005794   \n",
       "2015-03-06  0.997037  0.998731  0.990844  0.991172  0.983641  0.994267   \n",
       "2015-03-09  0.997617  1.002951  0.996633  0.989534  0.978283  0.995563   \n",
       "\n",
       "             S&P 500  \n",
       "Date                  \n",
       "2015-03-03  0.995461  \n",
       "2015-03-04  0.991093  \n",
       "2015-03-05  0.992278  \n",
       "2015-03-06  0.978214  \n",
       "2015-03-09  0.982072  "
      ]
     },
     "execution_count": 20,
     "metadata": {},
     "output_type": "execute_result"
    }
   ],
   "source": [
    "# Calculate cumulative returns\n",
    "\n",
    "cumulative_returns = (1 + combined_df).cumprod()\n",
    "cumulative_returns.head()"
   ]
  },
  {
   "cell_type": "code",
   "execution_count": 21,
   "metadata": {},
   "outputs": [
    {
     "data": {
      "text/plain": [
       "<matplotlib.axes._subplots.AxesSubplot at 0x28baee5f508>"
      ]
     },
     "execution_count": 21,
     "metadata": {},
     "output_type": "execute_result"
    },
    {
     "data": {
      "image/png": "[encoded data removed]",
      "text/plain": [
       "<Figure size 432x288 with 1 Axes>"
      ]
     },
     "metadata": {
      "needs_background": "light"
     },
     "output_type": "display_data"
    }
   ],
   "source": [
    "cumulative_returns.plot()"
   ]
  },
  {
   "cell_type": "markdown",
   "metadata": {},
   "source": [
    "## Risk\n",
    "\n",
    "Determine the _risk_ of eash portfolio:\n",
    "\n",
    "    1. Create a box plot for each portfolio.\n",
    "    2. Calculate the standard deviation for all portfolios\n",
    "    3. Determine which portfolios are riskier than the S&P 500\n",
    "    4. Calculate the Annualized Standard Deviation"
   ]
  },
  {
   "cell_type": "code",
   "execution_count": 22,
   "metadata": {},
   "outputs": [
    {
     "data": {
      "text/plain": [
       "<matplotlib.axes._subplots.AxesSubplot at 0x28baeef3b48>"
      ]
     },
     "execution_count": 22,
     "metadata": {},
     "output_type": "execute_result"
    },
    {
     "data": {
      "image/png": "[encoded data removed]",
      "text/plain": [
       "<Figure size 720x360 with 1 Axes>"
      ]
     },
     "metadata": {
      "needs_background": "light"
     },
     "output_type": "display_data"
    }
   ],
   "source": [
    "# Box plot to visually show risk\n",
    "# Added figsize to fix issue with overlapping x-axis labels\n",
    "cumulative_returns.plot(kind='box', figsize=(10,5))"
   ]
  },
  {
   "cell_type": "code",
   "execution_count": 23,
   "metadata": {},
   "outputs": [
    {
     "data": {
      "text/plain": [
       "Paulson     0.007023\n",
       "Algo1       0.007620\n",
       "Soros       0.007895\n",
       "Algo 2      0.008342\n",
       "S&P 500     0.008554\n",
       "Tiger       0.010894\n",
       "Bershire    0.012919\n",
       "dtype: float64"
      ]
     },
     "execution_count": 23,
     "metadata": {},
     "output_type": "execute_result"
    }
   ],
   "source": [
    "# Daily Standard Deviations\n",
    "# Calculated from the daily returns not cumulative returns\n",
    "std_df = combined_df.std()\n",
    "std_df.sort_values(inplace=True)\n",
    "std_df"
   ]
  },
  {
   "cell_type": "markdown",
   "metadata": {},
   "source": [
    "Anything with a larger standard deviation than the S&P 500 is a riskier portfolio. So, Berkshire and Tiger are riskier than the S&P 500. However, Berkshire beat the S&P in total returns, Tiger did not."
   ]
  },
  {
   "cell_type": "code",
   "execution_count": 24,
   "metadata": {},
   "outputs": [
    {
     "data": {
      "text/plain": [
       "Paulson     0.111488\n",
       "Algo1       0.120967\n",
       "Soros       0.125335\n",
       "Algo 2      0.132430\n",
       "S&P 500     0.135786\n",
       "Tiger       0.172936\n",
       "Bershire    0.205077\n",
       "dtype: float64"
      ]
     },
     "execution_count": 24,
     "metadata": {},
     "output_type": "execute_result"
    }
   ],
   "source": [
    "# Calculate the annualized standard deviation\n",
    "volatility = combined_df.std() * np.sqrt(252)\n",
    "volatility.sort_values(inplace=True)\n",
    "volatility"
   ]
  },
  {
   "cell_type": "markdown",
   "metadata": {},
   "source": [
    "Again, by using annualized standard deviation to calculate volatility, we see that Berkshire and Tiger are still a riskier portfolio than the S&P 500"
   ]
  },
  {
   "cell_type": "markdown",
   "metadata": {},
   "source": [
    "## Rolling Statistics\n",
    "\n",
    "Risk changes over time. Analyze the rolling statistics for Risk and Beta"
   ]
  },
  {
   "cell_type": "markdown",
   "metadata": {},
   "source": [
    "1. Calculate and plot the rolling standard deviation for the S&P 500 using a 21 day window\n",
    "2. Calculate the correlation between each stock to determine which portfolios may mimick the S&P 500\n",
    "3. Calculate and plot a 60 day Bata for Berkshire Hathaway Inc compared to the S&P 500"
   ]
  },
  {
   "cell_type": "code",
   "execution_count": 25,
   "metadata": {},
   "outputs": [
    {
     "data": {
      "text/plain": [
       "<matplotlib.axes._subplots.AxesSubplot at 0x28baf02bf48>"
      ]
     },
     "execution_count": 25,
     "metadata": {},
     "output_type": "execute_result"
    },
    {
     "data": {
      "image/png": "[encoded data removed]",
      "text/plain": [
       "<Figure size 432x288 with 1 Axes>"
      ]
     },
     "metadata": {
      "needs_background": "light"
     },
     "output_type": "display_data"
    }
   ],
   "source": [
    "# Calculate and plot the rolling std for the S&P 500 using a 21 day window\n",
    "ax = sp500_history.plot()\n",
    "\n",
    "sp500_history.rolling(window=21).std().plot(ax=ax)"
   ]
  },
  {
   "cell_type": "code",
   "execution_count": 26,
   "metadata": {},
   "outputs": [],
   "source": [
    "# Import seaborn to plot correlation\n",
    "import seaborn as sns"
   ]
  },
  {
   "cell_type": "code",
   "execution_count": 27,
   "metadata": {},
   "outputs": [
    {
     "data": {
      "text/html": [
       "<div>\n",
       "<style scoped>\n",
       "    .dataframe tbody tr th:only-of-type {\n",
       "        vertical-align: middle;\n",
       "    }\n",
       "\n",
       "    .dataframe tbody tr th {\n",
       "        vertical-align: top;\n",
       "    }\n",
       "\n",
       "    .dataframe thead th {\n",
       "        text-align: right;\n",
       "    }\n",
       "</style>\n",
       "<table border=\"1\" class=\"dataframe\">\n",
       "  <thead>\n",
       "    <tr style=\"text-align: right;\">\n",
       "      <th></th>\n",
       "      <th>Soros</th>\n",
       "      <th>Paulson</th>\n",
       "      <th>Tiger</th>\n",
       "      <th>Bershire</th>\n",
       "      <th>Algo1</th>\n",
       "      <th>Algo 2</th>\n",
       "      <th>S&amp;P 500</th>\n",
       "    </tr>\n",
       "  </thead>\n",
       "  <tbody>\n",
       "    <tr>\n",
       "      <th>Soros</th>\n",
       "      <td>1.000000</td>\n",
       "      <td>0.699914</td>\n",
       "      <td>0.561243</td>\n",
       "      <td>0.754360</td>\n",
       "      <td>0.321211</td>\n",
       "      <td>0.826873</td>\n",
       "      <td>0.837864</td>\n",
       "    </tr>\n",
       "    <tr>\n",
       "      <th>Paulson</th>\n",
       "      <td>0.699914</td>\n",
       "      <td>1.000000</td>\n",
       "      <td>0.434479</td>\n",
       "      <td>0.545623</td>\n",
       "      <td>0.268840</td>\n",
       "      <td>0.678152</td>\n",
       "      <td>0.669732</td>\n",
       "    </tr>\n",
       "    <tr>\n",
       "      <th>Tiger</th>\n",
       "      <td>0.561243</td>\n",
       "      <td>0.434479</td>\n",
       "      <td>1.000000</td>\n",
       "      <td>0.424423</td>\n",
       "      <td>0.164387</td>\n",
       "      <td>0.507414</td>\n",
       "      <td>0.623946</td>\n",
       "    </tr>\n",
       "    <tr>\n",
       "      <th>Bershire</th>\n",
       "      <td>0.754360</td>\n",
       "      <td>0.545623</td>\n",
       "      <td>0.424423</td>\n",
       "      <td>1.000000</td>\n",
       "      <td>0.292033</td>\n",
       "      <td>0.688082</td>\n",
       "      <td>0.751371</td>\n",
       "    </tr>\n",
       "    <tr>\n",
       "      <th>Algo1</th>\n",
       "      <td>0.321211</td>\n",
       "      <td>0.268840</td>\n",
       "      <td>0.164387</td>\n",
       "      <td>0.292033</td>\n",
       "      <td>1.000000</td>\n",
       "      <td>0.288243</td>\n",
       "      <td>0.279494</td>\n",
       "    </tr>\n",
       "    <tr>\n",
       "      <th>Algo 2</th>\n",
       "      <td>0.826873</td>\n",
       "      <td>0.678152</td>\n",
       "      <td>0.507414</td>\n",
       "      <td>0.688082</td>\n",
       "      <td>0.288243</td>\n",
       "      <td>1.000000</td>\n",
       "      <td>0.858764</td>\n",
       "    </tr>\n",
       "    <tr>\n",
       "      <th>S&amp;P 500</th>\n",
       "      <td>0.837864</td>\n",
       "      <td>0.669732</td>\n",
       "      <td>0.623946</td>\n",
       "      <td>0.751371</td>\n",
       "      <td>0.279494</td>\n",
       "      <td>0.858764</td>\n",
       "      <td>1.000000</td>\n",
       "    </tr>\n",
       "  </tbody>\n",
       "</table>\n",
       "</div>"
      ],
      "text/plain": [
       "             Soros   Paulson     Tiger  Bershire     Algo1    Algo 2   S&P 500\n",
       "Soros     1.000000  0.699914  0.561243  0.754360  0.321211  0.826873  0.837864\n",
       "Paulson   0.699914  1.000000  0.434479  0.545623  0.268840  0.678152  0.669732\n",
       "Tiger     0.561243  0.434479  1.000000  0.424423  0.164387  0.507414  0.623946\n",
       "Bershire  0.754360  0.545623  0.424423  1.000000  0.292033  0.688082  0.751371\n",
       "Algo1     0.321211  0.268840  0.164387  0.292033  1.000000  0.288243  0.279494\n",
       "Algo 2    0.826873  0.678152  0.507414  0.688082  0.288243  1.000000  0.858764\n",
       "S&P 500   0.837864  0.669732  0.623946  0.751371  0.279494  0.858764  1.000000"
      ]
     },
     "execution_count": 27,
     "metadata": {},
     "output_type": "execute_result"
    }
   ],
   "source": [
    "corr_df = combined_df.corr()\n",
    "corr_df"
   ]
  },
  {
   "cell_type": "code",
   "execution_count": 28,
   "metadata": {},
   "outputs": [
    {
     "data": {
      "text/plain": [
       "<matplotlib.axes._subplots.AxesSubplot at 0x28bb12513c8>"
      ]
     },
     "execution_count": 28,
     "metadata": {},
     "output_type": "execute_result"
    },
    {
     "data": {
      "image/png": "[encoded data removed]",
      "text/plain": [
       "<Figure size 432x288 with 2 Axes>"
      ]
     },
     "metadata": {
      "needs_background": "light"
     },
     "output_type": "display_data"
    }
   ],
   "source": [
    "# Adding in a heat map for fun\n",
    "sns.heatmap(corr_df, vmin=-1, vmax=1)"
   ]
  },
  {
   "cell_type": "code",
   "execution_count": null,
   "metadata": {},
   "outputs": [],
   "source": [
    "# Calculate the beta for a single portfolio compared to the total market (S&P500)\n",
    "# Instructions don't specify which portfolio to compare so I thought it would be\n",
    "#cool to use the input() function but sadly I'm running out of time to figure this \n",
    "#out. The code to calculate the Beta is shown after all the messed up for loops\n",
    "def beta_calculation(portfolio, sp500):\n",
    "    \n",
    "    portfolio = f\"{input()}\n",
    "    sp500 = sp500_history\n",
    "    \n",
    "    for strategy in portfolio:\n",
    "        if strategy == \"algo_cleaned\":\n",
    "            algo_cleaned = algo_cleaned.loc['Algo 1', 'Algo 2']\n",
    "            portfolio = algo_cleaned\n",
    "            for strategy in algo_cleaned:\n",
    "                #strategy = input()\n",
    "                #if strate\n",
    "        elif strategy == \"whale_cleaned\":\n",
    "            whale_cleaned = {whale_cleaned}\n",
    "            \n",
    "        \n",
    "    \n",
    "    for price in sp500:\n",
    "        daily_returns_sp500 = sp500.pct_change()\n",
    "        \n",
    "    covariance = portfolio.cov(daily_returns_sp500)\n",
    "    variance = daily_returns_sp500.var()\n",
    "    \n",
    "    portfolio_beta = covariance / variance\n",
    "    return portfolio_beta"
   ]
  },
  {
   "cell_type": "code",
   "execution_count": null,
   "metadata": {},
   "outputs": [],
   "source": [
    "beta_calculation(portfolio, sp500)"
   ]
  },
  {
   "cell_type": "markdown",
   "metadata": {},
   "source": [
    "## Challenge: Exponentially Weighted Average\n",
    "\n",
    "An alternative way to calculate a rolling window is to take the exponentially weighted moving average. This is like a moving window average, but it assigns greater importance to more recent observations. Try calculating the `ewm` with a 21 day half-life."
   ]
  },
  {
   "cell_type": "code",
   "execution_count": 30,
   "metadata": {},
   "outputs": [
    {
     "data": {
      "text/html": [
       "<div>\n",
       "<style scoped>\n",
       "    .dataframe tbody tr th:only-of-type {\n",
       "        vertical-align: middle;\n",
       "    }\n",
       "\n",
       "    .dataframe tbody tr th {\n",
       "        vertical-align: top;\n",
       "    }\n",
       "\n",
       "    .dataframe thead th {\n",
       "        text-align: right;\n",
       "    }\n",
       "</style>\n",
       "<table border=\"1\" class=\"dataframe\">\n",
       "  <thead>\n",
       "    <tr style=\"text-align: right;\">\n",
       "      <th></th>\n",
       "      <th>Soros</th>\n",
       "      <th>Paulson</th>\n",
       "      <th>Tiger</th>\n",
       "      <th>Bershire</th>\n",
       "      <th>Algo1</th>\n",
       "      <th>Algo 2</th>\n",
       "      <th>S&amp;P 500</th>\n",
       "    </tr>\n",
       "    <tr>\n",
       "      <th>Date</th>\n",
       "      <th></th>\n",
       "      <th></th>\n",
       "      <th></th>\n",
       "      <th></th>\n",
       "      <th></th>\n",
       "      <th></th>\n",
       "      <th></th>\n",
       "    </tr>\n",
       "  </thead>\n",
       "  <tbody>\n",
       "    <tr>\n",
       "      <th>2015-03-03</th>\n",
       "      <td>-0.001266</td>\n",
       "      <td>-0.004981</td>\n",
       "      <td>-0.000496</td>\n",
       "      <td>-0.006569</td>\n",
       "      <td>-0.001942</td>\n",
       "      <td>-0.000949</td>\n",
       "      <td>-0.004539</td>\n",
       "    </tr>\n",
       "    <tr>\n",
       "      <th>2015-03-04</th>\n",
       "      <td>0.000511</td>\n",
       "      <td>-0.000802</td>\n",
       "      <td>-0.001532</td>\n",
       "      <td>-0.001089</td>\n",
       "      <td>-0.005320</td>\n",
       "      <td>0.000761</td>\n",
       "      <td>-0.004462</td>\n",
       "    </tr>\n",
       "    <tr>\n",
       "      <th>2015-03-05</th>\n",
       "      <td>0.001718</td>\n",
       "      <td>0.000878</td>\n",
       "      <td>-0.000193</td>\n",
       "      <td>0.001603</td>\n",
       "      <td>-0.003817</td>\n",
       "      <td>0.001988</td>\n",
       "      <td>-0.002514</td>\n",
       "    </tr>\n",
       "    <tr>\n",
       "      <th>2015-03-06</th>\n",
       "      <td>-0.000808</td>\n",
       "      <td>-0.000291</td>\n",
       "      <td>-0.002369</td>\n",
       "      <td>-0.002256</td>\n",
       "      <td>-0.004116</td>\n",
       "      <td>-0.001542</td>\n",
       "      <td>-0.005575</td>\n",
       "    </tr>\n",
       "    <tr>\n",
       "      <th>2015-03-09</th>\n",
       "      <td>-0.000511</td>\n",
       "      <td>0.000673</td>\n",
       "      <td>-0.000616</td>\n",
       "      <td>-0.002128</td>\n",
       "      <td>-0.004400</td>\n",
       "      <td>-0.000935</td>\n",
       "      <td>-0.003543</td>\n",
       "    </tr>\n",
       "    <tr>\n",
       "      <th>...</th>\n",
       "      <td>...</td>\n",
       "      <td>...</td>\n",
       "      <td>...</td>\n",
       "      <td>...</td>\n",
       "      <td>...</td>\n",
       "      <td>...</td>\n",
       "      <td>...</td>\n",
       "    </tr>\n",
       "    <tr>\n",
       "      <th>2019-04-16</th>\n",
       "      <td>0.001480</td>\n",
       "      <td>0.000448</td>\n",
       "      <td>-0.000813</td>\n",
       "      <td>0.001862</td>\n",
       "      <td>0.000912</td>\n",
       "      <td>0.001364</td>\n",
       "      <td>0.001352</td>\n",
       "    </tr>\n",
       "    <tr>\n",
       "      <th>2019-04-17</th>\n",
       "      <td>0.001338</td>\n",
       "      <td>0.000223</td>\n",
       "      <td>-0.000930</td>\n",
       "      <td>0.001906</td>\n",
       "      <td>0.000548</td>\n",
       "      <td>0.001150</td>\n",
       "      <td>0.001234</td>\n",
       "    </tr>\n",
       "    <tr>\n",
       "      <th>2019-04-18</th>\n",
       "      <td>0.001341</td>\n",
       "      <td>0.000256</td>\n",
       "      <td>-0.000881</td>\n",
       "      <td>0.001907</td>\n",
       "      <td>0.000511</td>\n",
       "      <td>0.001073</td>\n",
       "      <td>0.001246</td>\n",
       "    </tr>\n",
       "    <tr>\n",
       "      <th>2019-04-22</th>\n",
       "      <td>0.001214</td>\n",
       "      <td>0.000009</td>\n",
       "      <td>-0.000971</td>\n",
       "      <td>0.001809</td>\n",
       "      <td>0.000516</td>\n",
       "      <td>0.000975</td>\n",
       "      <td>0.001238</td>\n",
       "    </tr>\n",
       "    <tr>\n",
       "      <th>2019-04-23</th>\n",
       "      <td>0.001407</td>\n",
       "      <td>0.000122</td>\n",
       "      <td>-0.000729</td>\n",
       "      <td>0.002182</td>\n",
       "      <td>0.000661</td>\n",
       "      <td>0.001256</td>\n",
       "      <td>0.001485</td>\n",
       "    </tr>\n",
       "  </tbody>\n",
       "</table>\n",
       "<p>1043 rows × 7 columns</p>\n",
       "</div>"
      ],
      "text/plain": [
       "               Soros   Paulson     Tiger  Bershire     Algo1    Algo 2  \\\n",
       "Date                                                                     \n",
       "2015-03-03 -0.001266 -0.004981 -0.000496 -0.006569 -0.001942 -0.000949   \n",
       "2015-03-04  0.000511 -0.000802 -0.001532 -0.001089 -0.005320  0.000761   \n",
       "2015-03-05  0.001718  0.000878 -0.000193  0.001603 -0.003817  0.001988   \n",
       "2015-03-06 -0.000808 -0.000291 -0.002369 -0.002256 -0.004116 -0.001542   \n",
       "2015-03-09 -0.000511  0.000673 -0.000616 -0.002128 -0.004400 -0.000935   \n",
       "...              ...       ...       ...       ...       ...       ...   \n",
       "2019-04-16  0.001480  0.000448 -0.000813  0.001862  0.000912  0.001364   \n",
       "2019-04-17  0.001338  0.000223 -0.000930  0.001906  0.000548  0.001150   \n",
       "2019-04-18  0.001341  0.000256 -0.000881  0.001907  0.000511  0.001073   \n",
       "2019-04-22  0.001214  0.000009 -0.000971  0.001809  0.000516  0.000975   \n",
       "2019-04-23  0.001407  0.000122 -0.000729  0.002182  0.000661  0.001256   \n",
       "\n",
       "             S&P 500  \n",
       "Date                  \n",
       "2015-03-03 -0.004539  \n",
       "2015-03-04 -0.004462  \n",
       "2015-03-05 -0.002514  \n",
       "2015-03-06 -0.005575  \n",
       "2015-03-09 -0.003543  \n",
       "...              ...  \n",
       "2019-04-16  0.001352  \n",
       "2019-04-17  0.001234  \n",
       "2019-04-18  0.001246  \n",
       "2019-04-22  0.001238  \n",
       "2019-04-23  0.001485  \n",
       "\n",
       "[1043 rows x 7 columns]"
      ]
     },
     "execution_count": 30,
     "metadata": {},
     "output_type": "execute_result"
    }
   ],
   "source": [
    "combined_df.ewm(halflife=21).mean()"
   ]
  },
  {
   "cell_type": "markdown",
   "metadata": {},
   "source": [
    "## Sharpe Ratios\n",
    "\n",
    "In reality, investment managers and their institutional investors look at the ration of return-to-risk, and not just returns alone. (After all, if you could invest in one of two portfolios, each offered the same 10% return, yet one offered lower risk, you'd take that one, right?)"
   ]
  },
  {
   "cell_type": "code",
   "execution_count": 31,
   "metadata": {},
   "outputs": [
    {
     "data": {
      "text/plain": [
       "Soros       0.356417\n",
       "Paulson    -0.483570\n",
       "Tiger      -0.121060\n",
       "Bershire    0.621810\n",
       "Algo1       1.378648\n",
       "Algo 2      0.501364\n",
       "S&P 500     0.648267\n",
       "dtype: float64"
      ]
     },
     "execution_count": 31,
     "metadata": {},
     "output_type": "execute_result"
    }
   ],
   "source": [
    "sharpe_ratio = (combined_df.mean() * 252) / (combined_df.std() * np.sqrt(252))\n",
    "sharpe_ratio"
   ]
  },
  {
   "cell_type": "code",
   "execution_count": 32,
   "metadata": {},
   "outputs": [
    {
     "data": {
      "text/plain": [
       "<matplotlib.axes._subplots.AxesSubplot at 0x28bb124d288>"
      ]
     },
     "execution_count": 32,
     "metadata": {},
     "output_type": "execute_result"
    },
    {
     "data": {
      "image/png": "[encoded data removed]",
      "text/plain": [
       "<Figure size 432x288 with 1 Axes>"
      ]
     },
     "metadata": {
      "needs_background": "light"
     },
     "output_type": "display_data"
    }
   ],
   "source": [
    "# Plot Sharpe Ratios\n",
    "sharpe_ratio.plot(kind=\"bar\", title=\"Sharpe Ratios\")"
   ]
  },
  {
   "cell_type": "code",
   "execution_count": 34,
   "metadata": {},
   "outputs": [],
   "source": [
    "gold_csv = Path(\"./Resources/gold_data.csv\")\n",
    "gold = pd.read_csv(gold_csv, index_col=\"Date\", infer_datetime_format=True, parse_dates=True)"
   ]
  },
  {
   "cell_type": "code",
   "execution_count": 35,
   "metadata": {},
   "outputs": [],
   "source": [
    "ilmn_csv = Path(\"./Resources/ilmn_data.csv\")\n",
    "illumina = pd.read_csv(ilmn_csv, index_col=\"Date\", infer_datetime_format=True, parse_dates=True)"
   ]
  },
  {
   "cell_type": "code",
   "execution_count": 36,
   "metadata": {},
   "outputs": [],
   "source": [
    "visa_csv = Path(\"./Resources/visa_data.csv\")\n",
    "visa = pd.read_csv(visa_csv, index_col=\"Date\", infer_datetime_format=True, parse_dates=True)"
   ]
  },
  {
   "cell_type": "code",
   "execution_count": 73,
   "metadata": {},
   "outputs": [
    {
     "data": {
      "text/html": [
       "<div>\n",
       "<style scoped>\n",
       "    .dataframe tbody tr th:only-of-type {\n",
       "        vertical-align: middle;\n",
       "    }\n",
       "\n",
       "    .dataframe tbody tr th {\n",
       "        vertical-align: top;\n",
       "    }\n",
       "\n",
       "    .dataframe thead th {\n",
       "        text-align: right;\n",
       "    }\n",
       "</style>\n",
       "<table border=\"1\" class=\"dataframe\">\n",
       "  <thead>\n",
       "    <tr style=\"text-align: right;\">\n",
       "      <th></th>\n",
       "      <th>Close/Last</th>\n",
       "      <th>Volume</th>\n",
       "      <th>Open</th>\n",
       "      <th>High</th>\n",
       "      <th>Low</th>\n",
       "      <th>Close/Last</th>\n",
       "      <th>Volume</th>\n",
       "      <th>Open</th>\n",
       "      <th>High</th>\n",
       "      <th>Low</th>\n",
       "      <th>Close/Last</th>\n",
       "      <th>Volume</th>\n",
       "      <th>Open</th>\n",
       "      <th>High</th>\n",
       "      <th>Low</th>\n",
       "    </tr>\n",
       "    <tr>\n",
       "      <th>Date</th>\n",
       "      <th></th>\n",
       "      <th></th>\n",
       "      <th></th>\n",
       "      <th></th>\n",
       "      <th></th>\n",
       "      <th></th>\n",
       "      <th></th>\n",
       "      <th></th>\n",
       "      <th></th>\n",
       "      <th></th>\n",
       "      <th></th>\n",
       "      <th></th>\n",
       "      <th></th>\n",
       "      <th></th>\n",
       "      <th></th>\n",
       "    </tr>\n",
       "  </thead>\n",
       "  <tbody>\n",
       "    <tr>\n",
       "      <th>2019-04-04</th>\n",
       "      <td>$13.56</td>\n",
       "      <td>9905538</td>\n",
       "      <td>$13.18</td>\n",
       "      <td>$13.57</td>\n",
       "      <td>$13.06</td>\n",
       "      <td>$315.02</td>\n",
       "      <td>538103</td>\n",
       "      <td>$318.03</td>\n",
       "      <td>$318.55</td>\n",
       "      <td>$311.84</td>\n",
       "      <td>$157.64</td>\n",
       "      <td>5100109</td>\n",
       "      <td>$158.53</td>\n",
       "      <td>$158.69</td>\n",
       "      <td>$156.53</td>\n",
       "    </tr>\n",
       "    <tr>\n",
       "      <th>2019-04-05</th>\n",
       "      <td>$13.49</td>\n",
       "      <td>7053125</td>\n",
       "      <td>$13.54</td>\n",
       "      <td>$13.56</td>\n",
       "      <td>$13.40</td>\n",
       "      <td>$323.50</td>\n",
       "      <td>841872</td>\n",
       "      <td>$317.36</td>\n",
       "      <td>$323.62</td>\n",
       "      <td>$316.16</td>\n",
       "      <td>$157.65</td>\n",
       "      <td>4178207</td>\n",
       "      <td>$158</td>\n",
       "      <td>$158.63</td>\n",
       "      <td>$157.23</td>\n",
       "    </tr>\n",
       "    <tr>\n",
       "      <th>2019-04-08</th>\n",
       "      <td>$13.52</td>\n",
       "      <td>7690822</td>\n",
       "      <td>$13.72</td>\n",
       "      <td>$13.72</td>\n",
       "      <td>$13.47</td>\n",
       "      <td>$323.61</td>\n",
       "      <td>1093586</td>\n",
       "      <td>$322.13</td>\n",
       "      <td>$324</td>\n",
       "      <td>$314.09</td>\n",
       "      <td>$157.75</td>\n",
       "      <td>5604632</td>\n",
       "      <td>$157.55</td>\n",
       "      <td>$157.85</td>\n",
       "      <td>$156.32</td>\n",
       "    </tr>\n",
       "    <tr>\n",
       "      <th>2019-04-09</th>\n",
       "      <td>$13.72</td>\n",
       "      <td>9378095</td>\n",
       "      <td>$13.61</td>\n",
       "      <td>$13.73</td>\n",
       "      <td>$13.53</td>\n",
       "      <td>$316.64</td>\n",
       "      <td>917978</td>\n",
       "      <td>$320.92</td>\n",
       "      <td>$322.57</td>\n",
       "      <td>$315.35</td>\n",
       "      <td>$157.49</td>\n",
       "      <td>6364081</td>\n",
       "      <td>$156.56</td>\n",
       "      <td>$157.99</td>\n",
       "      <td>$156.47</td>\n",
       "    </tr>\n",
       "    <tr>\n",
       "      <th>2019-04-10</th>\n",
       "      <td>$13.59</td>\n",
       "      <td>10913090</td>\n",
       "      <td>$13.84</td>\n",
       "      <td>$13.96</td>\n",
       "      <td>$13.54</td>\n",
       "      <td>$324.86</td>\n",
       "      <td>1033257</td>\n",
       "      <td>$317.01</td>\n",
       "      <td>$325.49</td>\n",
       "      <td>$314.40</td>\n",
       "      <td>$158.56</td>\n",
       "      <td>3917177</td>\n",
       "      <td>$157.99</td>\n",
       "      <td>$158.78</td>\n",
       "      <td>$157.52</td>\n",
       "    </tr>\n",
       "  </tbody>\n",
       "</table>\n",
       "</div>"
      ],
      "text/plain": [
       "           Close/Last    Volume     Open     High      Low Close/Last  \\\n",
       "Date                                                                    \n",
       "2019-04-04    $13.56    9905538  $13.18   $13.57   $13.06    $315.02    \n",
       "2019-04-05    $13.49    7053125  $13.54   $13.56   $13.40    $323.50    \n",
       "2019-04-08    $13.52    7690822  $13.72   $13.72   $13.47    $323.61    \n",
       "2019-04-09    $13.72    9378095  $13.61   $13.73   $13.53    $316.64    \n",
       "2019-04-10    $13.59   10913090  $13.84   $13.96   $13.54    $324.86    \n",
       "\n",
       "             Volume      Open      High       Low Close/Last   Volume  \\\n",
       "Date                                                                    \n",
       "2019-04-04   538103  $318.03   $318.55   $311.84    $157.64   5100109   \n",
       "2019-04-05   841872  $317.36   $323.62   $316.16    $157.65   4178207   \n",
       "2019-04-08  1093586  $322.13      $324   $314.09    $157.75   5604632   \n",
       "2019-04-09   917978  $320.92   $322.57   $315.35    $157.49   6364081   \n",
       "2019-04-10  1033257  $317.01   $325.49   $314.40    $158.56   3917177   \n",
       "\n",
       "                Open      High       Low  \n",
       "Date                                      \n",
       "2019-04-04  $158.53   $158.69   $156.53   \n",
       "2019-04-05     $158   $158.63   $157.23   \n",
       "2019-04-08  $157.55   $157.85   $156.32   \n",
       "2019-04-09  $156.56   $157.99   $156.47   \n",
       "2019-04-10  $157.99   $158.78   $157.52   "
      ]
     },
     "execution_count": 73,
     "metadata": {},
     "output_type": "execute_result"
    }
   ],
   "source": [
    "my_stocks = pd.concat([gold, illumina, visa], axis=\"columns\", join=\"inner\")\n",
    "my_stocks.sort_index(inplace=True)\n",
    "my_stocks.head()"
   ]
  },
  {
   "cell_type": "code",
   "execution_count": 74,
   "metadata": {},
   "outputs": [],
   "source": [
    "my_stocks_index = my_stocks.drop(['Volume', 'Open', 'High', 'Low'], axis=1)"
   ]
  },
  {
   "cell_type": "code",
   "execution_count": 75,
   "metadata": {},
   "outputs": [
    {
     "data": {
      "text/html": [
       "<div>\n",
       "<style scoped>\n",
       "    .dataframe tbody tr th:only-of-type {\n",
       "        vertical-align: middle;\n",
       "    }\n",
       "\n",
       "    .dataframe tbody tr th {\n",
       "        vertical-align: top;\n",
       "    }\n",
       "\n",
       "    .dataframe thead th {\n",
       "        text-align: right;\n",
       "    }\n",
       "</style>\n",
       "<table border=\"1\" class=\"dataframe\">\n",
       "  <thead>\n",
       "    <tr style=\"text-align: right;\">\n",
       "      <th></th>\n",
       "      <th>GOLD</th>\n",
       "      <th>ILMN</th>\n",
       "      <th>V</th>\n",
       "    </tr>\n",
       "    <tr>\n",
       "      <th>Date</th>\n",
       "      <th></th>\n",
       "      <th></th>\n",
       "      <th></th>\n",
       "    </tr>\n",
       "  </thead>\n",
       "  <tbody>\n",
       "    <tr>\n",
       "      <th>2019-04-04</th>\n",
       "      <td>$13.56</td>\n",
       "      <td>$315.02</td>\n",
       "      <td>$157.64</td>\n",
       "    </tr>\n",
       "    <tr>\n",
       "      <th>2019-04-05</th>\n",
       "      <td>$13.49</td>\n",
       "      <td>$323.50</td>\n",
       "      <td>$157.65</td>\n",
       "    </tr>\n",
       "    <tr>\n",
       "      <th>2019-04-08</th>\n",
       "      <td>$13.52</td>\n",
       "      <td>$323.61</td>\n",
       "      <td>$157.75</td>\n",
       "    </tr>\n",
       "    <tr>\n",
       "      <th>2019-04-09</th>\n",
       "      <td>$13.72</td>\n",
       "      <td>$316.64</td>\n",
       "      <td>$157.49</td>\n",
       "    </tr>\n",
       "    <tr>\n",
       "      <th>2019-04-10</th>\n",
       "      <td>$13.59</td>\n",
       "      <td>$324.86</td>\n",
       "      <td>$158.56</td>\n",
       "    </tr>\n",
       "    <tr>\n",
       "      <th>...</th>\n",
       "      <td>...</td>\n",
       "      <td>...</td>\n",
       "      <td>...</td>\n",
       "    </tr>\n",
       "    <tr>\n",
       "      <th>2020-03-30</th>\n",
       "      <td>$19.29</td>\n",
       "      <td>$276.23</td>\n",
       "      <td>$165.57</td>\n",
       "    </tr>\n",
       "    <tr>\n",
       "      <th>2020-03-31</th>\n",
       "      <td>$18.32</td>\n",
       "      <td>$273.12</td>\n",
       "      <td>$161.12</td>\n",
       "    </tr>\n",
       "    <tr>\n",
       "      <th>2020-04-01</th>\n",
       "      <td>$18.87</td>\n",
       "      <td>$256.46</td>\n",
       "      <td>$153.11</td>\n",
       "    </tr>\n",
       "    <tr>\n",
       "      <th>2020-04-02</th>\n",
       "      <td>$19.85</td>\n",
       "      <td>$272.99</td>\n",
       "      <td>$157.39</td>\n",
       "    </tr>\n",
       "    <tr>\n",
       "      <th>2020-04-03</th>\n",
       "      <td>$19.95</td>\n",
       "      <td>$263.50</td>\n",
       "      <td>$151.85</td>\n",
       "    </tr>\n",
       "  </tbody>\n",
       "</table>\n",
       "<p>253 rows × 3 columns</p>\n",
       "</div>"
      ],
      "text/plain": [
       "               GOLD      ILMN         V\n",
       "Date                                   \n",
       "2019-04-04  $13.56   $315.02   $157.64 \n",
       "2019-04-05  $13.49   $323.50   $157.65 \n",
       "2019-04-08  $13.52   $323.61   $157.75 \n",
       "2019-04-09  $13.72   $316.64   $157.49 \n",
       "2019-04-10  $13.59   $324.86   $158.56 \n",
       "...             ...       ...       ...\n",
       "2020-03-30  $19.29   $276.23   $165.57 \n",
       "2020-03-31  $18.32   $273.12   $161.12 \n",
       "2020-04-01  $18.87   $256.46   $153.11 \n",
       "2020-04-02  $19.85   $272.99   $157.39 \n",
       "2020-04-03  $19.95   $263.50   $151.85 \n",
       "\n",
       "[253 rows x 3 columns]"
      ]
     },
     "execution_count": 75,
     "metadata": {},
     "output_type": "execute_result"
    }
   ],
   "source": [
    "my_stocks_index.columns = ['GOLD', 'ILMN', 'V']\n",
    "my_stocks_index"
   ]
  },
  {
   "cell_type": "code",
   "execution_count": 76,
   "metadata": {},
   "outputs": [
    {
     "data": {
      "text/plain": [
       "GOLD    0\n",
       "ILMN    0\n",
       "V       0\n",
       "dtype: int64"
      ]
     },
     "execution_count": 76,
     "metadata": {},
     "output_type": "execute_result"
    }
   ],
   "source": [
    "my_stocks_index.isnull().sum()"
   ]
  },
  {
   "cell_type": "code",
   "execution_count": 77,
   "metadata": {},
   "outputs": [
    {
     "name": "stderr",
     "output_type": "stream",
     "text": [
      "C:\\Users\\andre\\anaconda3\\lib\\site-packages\\ipykernel_launcher.py:3: SettingWithCopyWarning: \n",
      "A value is trying to be set on a copy of a slice from a DataFrame.\n",
      "Try using .loc[row_indexer,col_indexer] = value instead\n",
      "\n",
      "See the caveats in the documentation: https://pandas.pydata.org/pandas-docs/stable/user_guide/indexing.html#returning-a-view-versus-a-copy\n",
      "  This is separate from the ipykernel package so we can avoid doing imports until\n",
      "C:\\Users\\andre\\anaconda3\\lib\\site-packages\\ipykernel_launcher.py:4: SettingWithCopyWarning: \n",
      "A value is trying to be set on a copy of a slice from a DataFrame.\n",
      "Try using .loc[row_indexer,col_indexer] = value instead\n",
      "\n",
      "See the caveats in the documentation: https://pandas.pydata.org/pandas-docs/stable/user_guide/indexing.html#returning-a-view-versus-a-copy\n",
      "  after removing the cwd from sys.path.\n",
      "C:\\Users\\andre\\anaconda3\\lib\\site-packages\\ipykernel_launcher.py:5: SettingWithCopyWarning: \n",
      "A value is trying to be set on a copy of a slice from a DataFrame.\n",
      "Try using .loc[row_indexer,col_indexer] = value instead\n",
      "\n",
      "See the caveats in the documentation: https://pandas.pydata.org/pandas-docs/stable/user_guide/indexing.html#returning-a-view-versus-a-copy\n",
      "  \"\"\"\n"
     ]
    },
    {
     "data": {
      "text/html": [
       "<div>\n",
       "<style scoped>\n",
       "    .dataframe tbody tr th:only-of-type {\n",
       "        vertical-align: middle;\n",
       "    }\n",
       "\n",
       "    .dataframe tbody tr th {\n",
       "        vertical-align: top;\n",
       "    }\n",
       "\n",
       "    .dataframe thead th {\n",
       "        text-align: right;\n",
       "    }\n",
       "</style>\n",
       "<table border=\"1\" class=\"dataframe\">\n",
       "  <thead>\n",
       "    <tr style=\"text-align: right;\">\n",
       "      <th></th>\n",
       "      <th>GOLD</th>\n",
       "      <th>ILMN</th>\n",
       "      <th>V</th>\n",
       "    </tr>\n",
       "    <tr>\n",
       "      <th>Date</th>\n",
       "      <th></th>\n",
       "      <th></th>\n",
       "      <th></th>\n",
       "    </tr>\n",
       "  </thead>\n",
       "  <tbody>\n",
       "    <tr>\n",
       "      <th>2019-04-04</th>\n",
       "      <td>13.56</td>\n",
       "      <td>315.02</td>\n",
       "      <td>157.64</td>\n",
       "    </tr>\n",
       "    <tr>\n",
       "      <th>2019-04-05</th>\n",
       "      <td>13.49</td>\n",
       "      <td>323.50</td>\n",
       "      <td>157.65</td>\n",
       "    </tr>\n",
       "    <tr>\n",
       "      <th>2019-04-08</th>\n",
       "      <td>13.52</td>\n",
       "      <td>323.61</td>\n",
       "      <td>157.75</td>\n",
       "    </tr>\n",
       "    <tr>\n",
       "      <th>2019-04-09</th>\n",
       "      <td>13.72</td>\n",
       "      <td>316.64</td>\n",
       "      <td>157.49</td>\n",
       "    </tr>\n",
       "    <tr>\n",
       "      <th>2019-04-10</th>\n",
       "      <td>13.59</td>\n",
       "      <td>324.86</td>\n",
       "      <td>158.56</td>\n",
       "    </tr>\n",
       "    <tr>\n",
       "      <th>...</th>\n",
       "      <td>...</td>\n",
       "      <td>...</td>\n",
       "      <td>...</td>\n",
       "    </tr>\n",
       "    <tr>\n",
       "      <th>2020-03-30</th>\n",
       "      <td>19.29</td>\n",
       "      <td>276.23</td>\n",
       "      <td>165.57</td>\n",
       "    </tr>\n",
       "    <tr>\n",
       "      <th>2020-03-31</th>\n",
       "      <td>18.32</td>\n",
       "      <td>273.12</td>\n",
       "      <td>161.12</td>\n",
       "    </tr>\n",
       "    <tr>\n",
       "      <th>2020-04-01</th>\n",
       "      <td>18.87</td>\n",
       "      <td>256.46</td>\n",
       "      <td>153.11</td>\n",
       "    </tr>\n",
       "    <tr>\n",
       "      <th>2020-04-02</th>\n",
       "      <td>19.85</td>\n",
       "      <td>272.99</td>\n",
       "      <td>157.39</td>\n",
       "    </tr>\n",
       "    <tr>\n",
       "      <th>2020-04-03</th>\n",
       "      <td>19.95</td>\n",
       "      <td>263.50</td>\n",
       "      <td>151.85</td>\n",
       "    </tr>\n",
       "  </tbody>\n",
       "</table>\n",
       "<p>253 rows × 3 columns</p>\n",
       "</div>"
      ],
      "text/plain": [
       "             GOLD    ILMN       V\n",
       "Date                             \n",
       "2019-04-04  13.56  315.02  157.64\n",
       "2019-04-05  13.49  323.50  157.65\n",
       "2019-04-08  13.52  323.61  157.75\n",
       "2019-04-09  13.72  316.64  157.49\n",
       "2019-04-10  13.59  324.86  158.56\n",
       "...           ...     ...     ...\n",
       "2020-03-30  19.29  276.23  165.57\n",
       "2020-03-31  18.32  273.12  161.12\n",
       "2020-04-01  18.87  256.46  153.11\n",
       "2020-04-02  19.85  272.99  157.39\n",
       "2020-04-03  19.95  263.50  151.85\n",
       "\n",
       "[253 rows x 3 columns]"
      ]
     },
     "execution_count": 77,
     "metadata": {},
     "output_type": "execute_result"
    }
   ],
   "source": [
    "#Doing this is a huge pain, the format is minutely different every time it needs to be done and my god is it annoying trying to figure out why it doesn't know what BA is\n",
    "\n",
    "my_stocks_index['GOLD'] = my_stocks_index.GOLD.str.replace(\"$\",\"\").astype(\"float\")\n",
    "my_stocks_index['ILMN'] = my_stocks_index.ILMN.str.replace(\"$\",\"\").astype(\"float\")\n",
    "my_stocks_index['V'] = my_stocks_index.V.str.replace(\"$\",\"\").astype(\"float\")\n",
    "my_stocks_index"
   ]
  },
  {
   "cell_type": "code",
   "execution_count": 78,
   "metadata": {},
   "outputs": [
    {
     "data": {
      "text/html": [
       "<div>\n",
       "<style scoped>\n",
       "    .dataframe tbody tr th:only-of-type {\n",
       "        vertical-align: middle;\n",
       "    }\n",
       "\n",
       "    .dataframe tbody tr th {\n",
       "        vertical-align: top;\n",
       "    }\n",
       "\n",
       "    .dataframe thead th {\n",
       "        text-align: right;\n",
       "    }\n",
       "</style>\n",
       "<table border=\"1\" class=\"dataframe\">\n",
       "  <thead>\n",
       "    <tr style=\"text-align: right;\">\n",
       "      <th></th>\n",
       "      <th>GOLD</th>\n",
       "      <th>ILMN</th>\n",
       "      <th>V</th>\n",
       "    </tr>\n",
       "    <tr>\n",
       "      <th>Date</th>\n",
       "      <th></th>\n",
       "      <th></th>\n",
       "      <th></th>\n",
       "    </tr>\n",
       "  </thead>\n",
       "  <tbody>\n",
       "    <tr>\n",
       "      <th>2019-04-04</th>\n",
       "      <td>NaN</td>\n",
       "      <td>NaN</td>\n",
       "      <td>NaN</td>\n",
       "    </tr>\n",
       "    <tr>\n",
       "      <th>2019-04-05</th>\n",
       "      <td>-0.005162</td>\n",
       "      <td>0.026919</td>\n",
       "      <td>0.000063</td>\n",
       "    </tr>\n",
       "    <tr>\n",
       "      <th>2019-04-08</th>\n",
       "      <td>0.002224</td>\n",
       "      <td>0.000340</td>\n",
       "      <td>0.000634</td>\n",
       "    </tr>\n",
       "    <tr>\n",
       "      <th>2019-04-09</th>\n",
       "      <td>0.014793</td>\n",
       "      <td>-0.021538</td>\n",
       "      <td>-0.001648</td>\n",
       "    </tr>\n",
       "    <tr>\n",
       "      <th>2019-04-10</th>\n",
       "      <td>-0.009475</td>\n",
       "      <td>0.025960</td>\n",
       "      <td>0.006794</td>\n",
       "    </tr>\n",
       "  </tbody>\n",
       "</table>\n",
       "</div>"
      ],
      "text/plain": [
       "                GOLD      ILMN         V\n",
       "Date                                    \n",
       "2019-04-04       NaN       NaN       NaN\n",
       "2019-04-05 -0.005162  0.026919  0.000063\n",
       "2019-04-08  0.002224  0.000340  0.000634\n",
       "2019-04-09  0.014793 -0.021538 -0.001648\n",
       "2019-04-10 -0.009475  0.025960  0.006794"
      ]
     },
     "execution_count": 78,
     "metadata": {},
     "output_type": "execute_result"
    }
   ],
   "source": [
    "stock_returns = my_stocks_index.pct_change()\n",
    "stock_returns.head()"
   ]
  },
  {
   "cell_type": "code",
   "execution_count": 79,
   "metadata": {},
   "outputs": [
    {
     "data": {
      "text/html": [
       "<div>\n",
       "<style scoped>\n",
       "    .dataframe tbody tr th:only-of-type {\n",
       "        vertical-align: middle;\n",
       "    }\n",
       "\n",
       "    .dataframe tbody tr th {\n",
       "        vertical-align: top;\n",
       "    }\n",
       "\n",
       "    .dataframe thead th {\n",
       "        text-align: right;\n",
       "    }\n",
       "</style>\n",
       "<table border=\"1\" class=\"dataframe\">\n",
       "  <thead>\n",
       "    <tr style=\"text-align: right;\">\n",
       "      <th></th>\n",
       "      <th>GOLD</th>\n",
       "      <th>ILMN</th>\n",
       "      <th>V</th>\n",
       "    </tr>\n",
       "    <tr>\n",
       "      <th>Date</th>\n",
       "      <th></th>\n",
       "      <th></th>\n",
       "      <th></th>\n",
       "    </tr>\n",
       "  </thead>\n",
       "  <tbody>\n",
       "    <tr>\n",
       "      <th>2019-04-05</th>\n",
       "      <td>-0.005162</td>\n",
       "      <td>0.026919</td>\n",
       "      <td>0.000063</td>\n",
       "    </tr>\n",
       "    <tr>\n",
       "      <th>2019-04-08</th>\n",
       "      <td>0.002224</td>\n",
       "      <td>0.000340</td>\n",
       "      <td>0.000634</td>\n",
       "    </tr>\n",
       "    <tr>\n",
       "      <th>2019-04-09</th>\n",
       "      <td>0.014793</td>\n",
       "      <td>-0.021538</td>\n",
       "      <td>-0.001648</td>\n",
       "    </tr>\n",
       "    <tr>\n",
       "      <th>2019-04-10</th>\n",
       "      <td>-0.009475</td>\n",
       "      <td>0.025960</td>\n",
       "      <td>0.006794</td>\n",
       "    </tr>\n",
       "    <tr>\n",
       "      <th>2019-04-11</th>\n",
       "      <td>-0.010302</td>\n",
       "      <td>0.011266</td>\n",
       "      <td>-0.004415</td>\n",
       "    </tr>\n",
       "  </tbody>\n",
       "</table>\n",
       "</div>"
      ],
      "text/plain": [
       "                GOLD      ILMN         V\n",
       "Date                                    \n",
       "2019-04-05 -0.005162  0.026919  0.000063\n",
       "2019-04-08  0.002224  0.000340  0.000634\n",
       "2019-04-09  0.014793 -0.021538 -0.001648\n",
       "2019-04-10 -0.009475  0.025960  0.006794\n",
       "2019-04-11 -0.010302  0.011266 -0.004415"
      ]
     },
     "execution_count": 79,
     "metadata": {},
     "output_type": "execute_result"
    }
   ],
   "source": [
    "stock_returns = stock_returns.dropna()\n",
    "stock_returns.head()"
   ]
  },
  {
   "cell_type": "code",
   "execution_count": 92,
   "metadata": {},
   "outputs": [
    {
     "data": {
      "text/plain": [
       "Date\n",
       "2019-04-05    0.007273\n",
       "2019-04-08    0.001066\n",
       "2019-04-09   -0.002798\n",
       "2019-04-10    0.007760\n",
       "2019-04-11   -0.001150\n",
       "dtype: float64"
      ]
     },
     "execution_count": 92,
     "metadata": {},
     "output_type": "execute_result"
    }
   ],
   "source": [
    "weights = [1/3, 1/3, 1/3]\n",
    "portfolio_returns = stock_returns.dot(weights)\n",
    "portfolio_returns.head()"
   ]
  },
  {
   "cell_type": "code",
   "execution_count": 93,
   "metadata": {},
   "outputs": [],
   "source": [
    "all_portfolios = pd.concat([combined_df, portfolio_returns], axis='columns', join='inner')\n",
    "all_portfolios.sort_index(inplace=True)"
   ]
  },
  {
   "cell_type": "code",
   "execution_count": 95,
   "metadata": {},
   "outputs": [
    {
     "data": {
      "text/html": [
       "<div>\n",
       "<style scoped>\n",
       "    .dataframe tbody tr th:only-of-type {\n",
       "        vertical-align: middle;\n",
       "    }\n",
       "\n",
       "    .dataframe tbody tr th {\n",
       "        vertical-align: top;\n",
       "    }\n",
       "\n",
       "    .dataframe thead th {\n",
       "        text-align: right;\n",
       "    }\n",
       "</style>\n",
       "<table border=\"1\" class=\"dataframe\">\n",
       "  <thead>\n",
       "    <tr style=\"text-align: right;\">\n",
       "      <th></th>\n",
       "      <th>Soros</th>\n",
       "      <th>Paulson</th>\n",
       "      <th>Tiger</th>\n",
       "      <th>Bershire</th>\n",
       "      <th>Algo1</th>\n",
       "      <th>Algo 2</th>\n",
       "      <th>S&amp;P 500</th>\n",
       "      <th>My Portfolio</th>\n",
       "    </tr>\n",
       "    <tr>\n",
       "      <th>Date</th>\n",
       "      <th></th>\n",
       "      <th></th>\n",
       "      <th></th>\n",
       "      <th></th>\n",
       "      <th></th>\n",
       "      <th></th>\n",
       "      <th></th>\n",
       "      <th></th>\n",
       "    </tr>\n",
       "  </thead>\n",
       "  <tbody>\n",
       "    <tr>\n",
       "      <th>2019-04-05</th>\n",
       "      <td>0.006880</td>\n",
       "      <td>0.006484</td>\n",
       "      <td>0.009357</td>\n",
       "      <td>0.006128</td>\n",
       "      <td>0.001519</td>\n",
       "      <td>0.009306</td>\n",
       "      <td>0.004636</td>\n",
       "      <td>0.007273</td>\n",
       "    </tr>\n",
       "    <tr>\n",
       "      <th>2019-04-08</th>\n",
       "      <td>0.000483</td>\n",
       "      <td>-0.000310</td>\n",
       "      <td>0.000153</td>\n",
       "      <td>0.000841</td>\n",
       "      <td>0.003761</td>\n",
       "      <td>0.000218</td>\n",
       "      <td>0.001047</td>\n",
       "      <td>0.001066</td>\n",
       "    </tr>\n",
       "    <tr>\n",
       "      <th>2019-04-09</th>\n",
       "      <td>-0.005657</td>\n",
       "      <td>-0.004396</td>\n",
       "      <td>-0.006536</td>\n",
       "      <td>-0.002497</td>\n",
       "      <td>0.012012</td>\n",
       "      <td>-0.011639</td>\n",
       "      <td>-0.006067</td>\n",
       "      <td>-0.002798</td>\n",
       "    </tr>\n",
       "    <tr>\n",
       "      <th>2019-04-10</th>\n",
       "      <td>0.009808</td>\n",
       "      <td>0.008366</td>\n",
       "      <td>0.002912</td>\n",
       "      <td>0.005269</td>\n",
       "      <td>-0.004221</td>\n",
       "      <td>0.009632</td>\n",
       "      <td>0.003478</td>\n",
       "      <td>0.007760</td>\n",
       "    </tr>\n",
       "    <tr>\n",
       "      <th>2019-04-11</th>\n",
       "      <td>0.003406</td>\n",
       "      <td>-0.003959</td>\n",
       "      <td>-0.000637</td>\n",
       "      <td>-0.000496</td>\n",
       "      <td>0.001705</td>\n",
       "      <td>-0.001568</td>\n",
       "      <td>0.000038</td>\n",
       "      <td>-0.001150</td>\n",
       "    </tr>\n",
       "    <tr>\n",
       "      <th>2019-04-12</th>\n",
       "      <td>0.005663</td>\n",
       "      <td>-0.001165</td>\n",
       "      <td>0.004217</td>\n",
       "      <td>0.007316</td>\n",
       "      <td>-0.005501</td>\n",
       "      <td>0.004504</td>\n",
       "      <td>0.006609</td>\n",
       "      <td>0.013009</td>\n",
       "    </tr>\n",
       "    <tr>\n",
       "      <th>2019-04-15</th>\n",
       "      <td>-0.001422</td>\n",
       "      <td>-0.001156</td>\n",
       "      <td>0.000398</td>\n",
       "      <td>-0.010492</td>\n",
       "      <td>-0.004331</td>\n",
       "      <td>-0.004572</td>\n",
       "      <td>-0.000629</td>\n",
       "      <td>0.003685</td>\n",
       "    </tr>\n",
       "    <tr>\n",
       "      <th>2019-04-16</th>\n",
       "      <td>0.002699</td>\n",
       "      <td>0.000388</td>\n",
       "      <td>-0.000831</td>\n",
       "      <td>0.000837</td>\n",
       "      <td>-0.006945</td>\n",
       "      <td>0.002899</td>\n",
       "      <td>0.000509</td>\n",
       "      <td>-0.014341</td>\n",
       "    </tr>\n",
       "    <tr>\n",
       "      <th>2019-04-17</th>\n",
       "      <td>-0.002897</td>\n",
       "      <td>-0.006467</td>\n",
       "      <td>-0.004409</td>\n",
       "      <td>0.003222</td>\n",
       "      <td>-0.010301</td>\n",
       "      <td>-0.005228</td>\n",
       "      <td>-0.002274</td>\n",
       "      <td>-0.012756</td>\n",
       "    </tr>\n",
       "    <tr>\n",
       "      <th>2019-04-18</th>\n",
       "      <td>0.001448</td>\n",
       "      <td>0.001222</td>\n",
       "      <td>0.000582</td>\n",
       "      <td>0.001916</td>\n",
       "      <td>-0.000588</td>\n",
       "      <td>-0.001229</td>\n",
       "      <td>0.001579</td>\n",
       "      <td>0.000279</td>\n",
       "    </tr>\n",
       "    <tr>\n",
       "      <th>2019-04-22</th>\n",
       "      <td>-0.002586</td>\n",
       "      <td>-0.007333</td>\n",
       "      <td>-0.003640</td>\n",
       "      <td>-0.001088</td>\n",
       "      <td>0.000677</td>\n",
       "      <td>-0.001936</td>\n",
       "      <td>0.001012</td>\n",
       "      <td>-0.005741</td>\n",
       "    </tr>\n",
       "    <tr>\n",
       "      <th>2019-04-23</th>\n",
       "      <td>0.007167</td>\n",
       "      <td>0.003485</td>\n",
       "      <td>0.006472</td>\n",
       "      <td>0.013278</td>\n",
       "      <td>0.004969</td>\n",
       "      <td>0.009622</td>\n",
       "      <td>0.008841</td>\n",
       "      <td>0.001609</td>\n",
       "    </tr>\n",
       "  </tbody>\n",
       "</table>\n",
       "</div>"
      ],
      "text/plain": [
       "               Soros   Paulson     Tiger  Bershire     Algo1    Algo 2  \\\n",
       "Date                                                                     \n",
       "2019-04-05  0.006880  0.006484  0.009357  0.006128  0.001519  0.009306   \n",
       "2019-04-08  0.000483 -0.000310  0.000153  0.000841  0.003761  0.000218   \n",
       "2019-04-09 -0.005657 -0.004396 -0.006536 -0.002497  0.012012 -0.011639   \n",
       "2019-04-10  0.009808  0.008366  0.002912  0.005269 -0.004221  0.009632   \n",
       "2019-04-11  0.003406 -0.003959 -0.000637 -0.000496  0.001705 -0.001568   \n",
       "2019-04-12  0.005663 -0.001165  0.004217  0.007316 -0.005501  0.004504   \n",
       "2019-04-15 -0.001422 -0.001156  0.000398 -0.010492 -0.004331 -0.004572   \n",
       "2019-04-16  0.002699  0.000388 -0.000831  0.000837 -0.006945  0.002899   \n",
       "2019-04-17 -0.002897 -0.006467 -0.004409  0.003222 -0.010301 -0.005228   \n",
       "2019-04-18  0.001448  0.001222  0.000582  0.001916 -0.000588 -0.001229   \n",
       "2019-04-22 -0.002586 -0.007333 -0.003640 -0.001088  0.000677 -0.001936   \n",
       "2019-04-23  0.007167  0.003485  0.006472  0.013278  0.004969  0.009622   \n",
       "\n",
       "             S&P 500  My Portfolio  \n",
       "Date                                \n",
       "2019-04-05  0.004636      0.007273  \n",
       "2019-04-08  0.001047      0.001066  \n",
       "2019-04-09 -0.006067     -0.002798  \n",
       "2019-04-10  0.003478      0.007760  \n",
       "2019-04-11  0.000038     -0.001150  \n",
       "2019-04-12  0.006609      0.013009  \n",
       "2019-04-15 -0.000629      0.003685  \n",
       "2019-04-16  0.000509     -0.014341  \n",
       "2019-04-17 -0.002274     -0.012756  \n",
       "2019-04-18  0.001579      0.000279  \n",
       "2019-04-22  0.001012     -0.005741  \n",
       "2019-04-23  0.008841      0.001609  "
      ]
     },
     "execution_count": 95,
     "metadata": {},
     "output_type": "execute_result"
    }
   ],
   "source": [
    "all_portfolios = all_portfolios.dropna()\n",
    "all_portfolios = all_portfolios.rename(columns={0: \"My Portfolio\"})\n",
    "all_portfolios"
   ]
  },
  {
   "cell_type": "code",
   "execution_count": 96,
   "metadata": {},
   "outputs": [
    {
     "data": {
      "text/plain": [
       "S&P 500         0.003969\n",
       "Tiger           0.004546\n",
       "Soros           0.004722\n",
       "Paulson         0.004836\n",
       "Bershire        0.005873\n",
       "Algo1           0.006075\n",
       "Algo 2          0.006632\n",
       "My Portfolio    0.008033\n",
       "dtype: float64"
      ]
     },
     "execution_count": 96,
     "metadata": {},
     "output_type": "execute_result"
    }
   ],
   "source": [
    "#risk\n",
    "all_std = all_portfolios.std()\n",
    "all_std.sort_values(inplace=True)\n",
    "all_std"
   ]
  },
  {
   "cell_type": "code",
   "execution_count": 112,
   "metadata": {},
   "outputs": [
    {
     "data": {
      "text/plain": [
       "<matplotlib.axes._subplots.AxesSubplot at 0x28bb5346b08>"
      ]
     },
     "execution_count": 112,
     "metadata": {},
     "output_type": "execute_result"
    },
    {
     "data": {
      "image/png": "[encoded data removed]",
      "text/plain": [
       "<Figure size 432x288 with 2 Axes>"
      ]
     },
     "metadata": {
      "needs_background": "light"
     },
     "output_type": "display_data"
    }
   ],
   "source": [
    "#they see me rollin'\n",
    "ax = sp_returns.plot(secondary_y=True)\n",
    "portfolio_returns.rolling(window=20).std().plot(ax=ax)"
   ]
  },
  {
   "cell_type": "code",
   "execution_count": 125,
   "metadata": {},
   "outputs": [
    {
     "name": "stdout",
     "output_type": "stream",
     "text": [
      "S&P 500 Daily Returns   -0.283052\n",
      "dtype: float64\n"
     ]
    }
   ],
   "source": [
    "covariance = stock_returns['GOLD'].cov(sp_dropped['S&P 500 Daily Returns'])\n",
    "variance = sp_dropped.var()\n",
    "beta = covariance / variance\n",
    "print(beta)"
   ]
  },
  {
   "cell_type": "code",
   "execution_count": 126,
   "metadata": {},
   "outputs": [
    {
     "data": {
      "text/plain": [
       "Soros           7.002126\n",
       "Paulson        -1.324276\n",
       "Tiger           2.338239\n",
       "Bershire        5.458018\n",
       "Algo1          -1.577493\n",
       "Algo 2          1.996704\n",
       "S&P 500         6.259024\n",
       "My Portfolio   -0.346715\n",
       "dtype: float64"
      ]
     },
     "execution_count": 126,
     "metadata": {},
     "output_type": "execute_result"
    }
   ],
   "source": [
    "#Shar Pei\n",
    "all_sharpe = (all_portfolios.mean() * 252) / (all_portfolios.std() * np.sqrt(252))\n",
    "all_sharpe"
   ]
  },
  {
   "cell_type": "code",
   "execution_count": 128,
   "metadata": {},
   "outputs": [
    {
     "data": {
      "text/plain": [
       "<matplotlib.axes._subplots.AxesSubplot at 0x28bb8f2d8c8>"
      ]
     },
     "execution_count": 128,
     "metadata": {},
     "output_type": "execute_result"
    },
    {
     "data": {
      "image/png": "[encoded data removed]",
      "text/plain": [
       "<Figure size 432x288 with 1 Axes>"
      ]
     },
     "metadata": {
      "needs_background": "light"
     },
     "output_type": "display_data"
    }
   ],
   "source": [
    "all_sharpe.plot(kind=\"bar\", title=\"These are some messed up Sharpe's\")"
   ]
  },
  {
   "cell_type": "code",
   "execution_count": 129,
   "metadata": {},
   "outputs": [
    {
     "data": {
      "text/html": [
       "<div>\n",
       "<style scoped>\n",
       "    .dataframe tbody tr th:only-of-type {\n",
       "        vertical-align: middle;\n",
       "    }\n",
       "\n",
       "    .dataframe tbody tr th {\n",
       "        vertical-align: top;\n",
       "    }\n",
       "\n",
       "    .dataframe thead th {\n",
       "        text-align: right;\n",
       "    }\n",
       "</style>\n",
       "<table border=\"1\" class=\"dataframe\">\n",
       "  <thead>\n",
       "    <tr style=\"text-align: right;\">\n",
       "      <th></th>\n",
       "      <th>Soros</th>\n",
       "      <th>Paulson</th>\n",
       "      <th>Tiger</th>\n",
       "      <th>Bershire</th>\n",
       "      <th>Algo1</th>\n",
       "      <th>Algo 2</th>\n",
       "      <th>S&amp;P 500</th>\n",
       "      <th>My Portfolio</th>\n",
       "    </tr>\n",
       "  </thead>\n",
       "  <tbody>\n",
       "    <tr>\n",
       "      <th>Soros</th>\n",
       "      <td>1.000000</td>\n",
       "      <td>0.830184</td>\n",
       "      <td>0.853629</td>\n",
       "      <td>0.676101</td>\n",
       "      <td>-0.180916</td>\n",
       "      <td>0.944806</td>\n",
       "      <td>0.830324</td>\n",
       "      <td>0.566598</td>\n",
       "    </tr>\n",
       "    <tr>\n",
       "      <th>Paulson</th>\n",
       "      <td>0.830184</td>\n",
       "      <td>1.000000</td>\n",
       "      <td>0.794985</td>\n",
       "      <td>0.467167</td>\n",
       "      <td>-0.006626</td>\n",
       "      <td>0.803531</td>\n",
       "      <td>0.597598</td>\n",
       "      <td>0.545974</td>\n",
       "    </tr>\n",
       "    <tr>\n",
       "      <th>Tiger</th>\n",
       "      <td>0.853629</td>\n",
       "      <td>0.794985</td>\n",
       "      <td>1.000000</td>\n",
       "      <td>0.599231</td>\n",
       "      <td>-0.054734</td>\n",
       "      <td>0.880310</td>\n",
       "      <td>0.868536</td>\n",
       "      <td>0.665137</td>\n",
       "    </tr>\n",
       "    <tr>\n",
       "      <th>Bershire</th>\n",
       "      <td>0.676101</td>\n",
       "      <td>0.467167</td>\n",
       "      <td>0.599231</td>\n",
       "      <td>1.000000</td>\n",
       "      <td>0.011033</td>\n",
       "      <td>0.727298</td>\n",
       "      <td>0.749522</td>\n",
       "      <td>0.249928</td>\n",
       "    </tr>\n",
       "    <tr>\n",
       "      <th>Algo1</th>\n",
       "      <td>-0.180916</td>\n",
       "      <td>-0.006626</td>\n",
       "      <td>-0.054734</td>\n",
       "      <td>0.011033</td>\n",
       "      <td>1.000000</td>\n",
       "      <td>-0.194477</td>\n",
       "      <td>-0.132846</td>\n",
       "      <td>0.173017</td>\n",
       "    </tr>\n",
       "    <tr>\n",
       "      <th>Algo 2</th>\n",
       "      <td>0.944806</td>\n",
       "      <td>0.803531</td>\n",
       "      <td>0.880310</td>\n",
       "      <td>0.727298</td>\n",
       "      <td>-0.194477</td>\n",
       "      <td>1.000000</td>\n",
       "      <td>0.894308</td>\n",
       "      <td>0.463977</td>\n",
       "    </tr>\n",
       "    <tr>\n",
       "      <th>S&amp;P 500</th>\n",
       "      <td>0.830324</td>\n",
       "      <td>0.597598</td>\n",
       "      <td>0.868536</td>\n",
       "      <td>0.749522</td>\n",
       "      <td>-0.132846</td>\n",
       "      <td>0.894308</td>\n",
       "      <td>1.000000</td>\n",
       "      <td>0.559576</td>\n",
       "    </tr>\n",
       "    <tr>\n",
       "      <th>My Portfolio</th>\n",
       "      <td>0.566598</td>\n",
       "      <td>0.545974</td>\n",
       "      <td>0.665137</td>\n",
       "      <td>0.249928</td>\n",
       "      <td>0.173017</td>\n",
       "      <td>0.463977</td>\n",
       "      <td>0.559576</td>\n",
       "      <td>1.000000</td>\n",
       "    </tr>\n",
       "  </tbody>\n",
       "</table>\n",
       "</div>"
      ],
      "text/plain": [
       "                 Soros   Paulson     Tiger  Bershire     Algo1    Algo 2  \\\n",
       "Soros         1.000000  0.830184  0.853629  0.676101 -0.180916  0.944806   \n",
       "Paulson       0.830184  1.000000  0.794985  0.467167 -0.006626  0.803531   \n",
       "Tiger         0.853629  0.794985  1.000000  0.599231 -0.054734  0.880310   \n",
       "Bershire      0.676101  0.467167  0.599231  1.000000  0.011033  0.727298   \n",
       "Algo1        -0.180916 -0.006626 -0.054734  0.011033  1.000000 -0.194477   \n",
       "Algo 2        0.944806  0.803531  0.880310  0.727298 -0.194477  1.000000   \n",
       "S&P 500       0.830324  0.597598  0.868536  0.749522 -0.132846  0.894308   \n",
       "My Portfolio  0.566598  0.545974  0.665137  0.249928  0.173017  0.463977   \n",
       "\n",
       "               S&P 500  My Portfolio  \n",
       "Soros         0.830324      0.566598  \n",
       "Paulson       0.597598      0.545974  \n",
       "Tiger         0.868536      0.665137  \n",
       "Bershire      0.749522      0.249928  \n",
       "Algo1        -0.132846      0.173017  \n",
       "Algo 2        0.894308      0.463977  \n",
       "S&P 500       1.000000      0.559576  \n",
       "My Portfolio  0.559576      1.000000  "
      ]
     },
     "execution_count": 129,
     "metadata": {},
     "output_type": "execute_result"
    }
   ],
   "source": [
    "all_portfolios.corr()"
   ]
  },
  {
   "cell_type": "code",
   "execution_count": 130,
   "metadata": {},
   "outputs": [],
   "source": [
    "#According to this my portfolio is highly correlated with my portfolio, oh wait.."
   ]
  },
  {
   "cell_type": "code",
   "execution_count": 131,
   "metadata": {},
   "outputs": [
    {
     "data": {
      "text/html": [
       "<div>\n",
       "<style scoped>\n",
       "    .dataframe tbody tr th:only-of-type {\n",
       "        vertical-align: middle;\n",
       "    }\n",
       "\n",
       "    .dataframe tbody tr th {\n",
       "        vertical-align: top;\n",
       "    }\n",
       "\n",
       "    .dataframe thead th {\n",
       "        text-align: right;\n",
       "    }\n",
       "</style>\n",
       "<table border=\"1\" class=\"dataframe\">\n",
       "  <thead>\n",
       "    <tr style=\"text-align: right;\">\n",
       "      <th></th>\n",
       "      <th>GOLD</th>\n",
       "      <th>ILMN</th>\n",
       "      <th>V</th>\n",
       "    </tr>\n",
       "  </thead>\n",
       "  <tbody>\n",
       "    <tr>\n",
       "      <th>GOLD</th>\n",
       "      <td>1.000000</td>\n",
       "      <td>0.183956</td>\n",
       "      <td>0.222870</td>\n",
       "    </tr>\n",
       "    <tr>\n",
       "      <th>ILMN</th>\n",
       "      <td>0.183956</td>\n",
       "      <td>1.000000</td>\n",
       "      <td>0.589417</td>\n",
       "    </tr>\n",
       "    <tr>\n",
       "      <th>V</th>\n",
       "      <td>0.222870</td>\n",
       "      <td>0.589417</td>\n",
       "      <td>1.000000</td>\n",
       "    </tr>\n",
       "  </tbody>\n",
       "</table>\n",
       "</div>"
      ],
      "text/plain": [
       "          GOLD      ILMN         V\n",
       "GOLD  1.000000  0.183956  0.222870\n",
       "ILMN  0.183956  1.000000  0.589417\n",
       "V     0.222870  0.589417  1.000000"
      ]
     },
     "execution_count": 131,
     "metadata": {},
     "output_type": "execute_result"
    }
   ],
   "source": [
    "stock_returns.corr()"
   ]
  },
  {
   "cell_type": "code",
   "execution_count": 132,
   "metadata": {},
   "outputs": [],
   "source": [
    "#these are some solid correlation numbers, good picks Stine"
   ]
  },
  {
   "cell_type": "code",
   "execution_count": null,
   "metadata": {},
   "outputs": [],
   "source": []
  }
 ],
 "metadata": {
  "kernelspec": {
   "display_name": "Python 3",
   "language": "python",
   "name": "python3"
  },
  "language_info": {
   "codemirror_mode": {
    "name": "ipython",
    "version": 3
   },
   "file_extension": ".py",
   "mimetype": "text/x-python",
   "name": "python",
   "nbconvert_exporter": "python",
   "pygments_lexer": "ipython3",
   "version": "3.7.6"
  }
 },
 "nbformat": 4,
 "nbformat_minor": 4
}
